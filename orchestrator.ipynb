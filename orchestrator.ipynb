{
 "cells": [
  {
   "cell_type": "markdown",
   "id": "17a3ea11-4161-4e5b-937b-e873350dbd63",
   "metadata": {},
   "source": [
    "![Author](https://img.shields.io/badge/Author-Soufiane%20AAZIZI-brightgreen)\n",
    "[![Medium](https://img.shields.io/badge/Medium-Follow%20Me-blue)](https://medium.com/@aazizi.soufiane)\n",
    "[![GitHub](https://img.shields.io/badge/GitHub-Follow%20Me-lightgrey)](https://github.com/aazizisoufiane)\n",
    "[![LinkedIn](https://img.shields.io/badge/LinkedIn-Connect%20with%20Me-informational)](https://www.linkedin.com/in/soufiane-aazizi-phd-a502829/)\n",
    "\n",
    "---\n",
    "# Streamlining Machine Learning Model Deployment with CI/CD and MLOps\n",
    "\n",
    "In today's ever-evolving landscape of data science and machine learning, proficiency in managing and deploying machine learning models has transitioned from a desirable skill to an absolute necessity. Aspiring data scientists are no longer solely responsible for building sophisticated models; they are also expected to seamlessly integrate these models into real-world applications. This is where the convergence of Continuous Integration and Continuous Deployment (CI/CD) and Machine Learning Operations (MLOps) takes center stage.\n",
    "\n",
    "In this Jupyter Notebook, we embark on an exciting journey into the realm of CI/CD and MLOps. Our goal is to demystify these crucial concepts and underscore their significance for emerging data scientists. Through hands-on exploration, we will delve into a project that harnesses the power of Amazon SageMaker and AWS Step Functions to simplify the entire process of data preprocessing, model training, and deployment. This project serves as an invaluable stepping stone for data scientists eager to acquire essential CI/CD and MLOps skills, further enhancing their appeal in today's competitive job market.\n",
    "\n",
    "Join us on this educational journey as we unlock the potential of CI/CD and MLOps in the context of machine learning, empowering you to take your data science expertise to the next level.\n",
    "## \n",
    "\n",
    "\n",
    "## Table of Contents\n",
    "- [Installing Required Packages](#Installing)\n",
    "- [Imports](#imports)\n",
    "- [Initialization](#initialization)\n",
    "- [Data Preprocessing](#data-preprocessing)\n",
    "- [Model Training](#model-training)\n",
    "- [Model Evaluation](#model-evaluation)\n",
    "- [Results and Discussion](#results-and-discussion)\n",
    "- [Conclusion](#conclusion)"
   ]
  },
  {
   "cell_type": "markdown",
   "id": "fd671d1b-d8b7-494d-b290-f9239e92e1e5",
   "metadata": {},
   "source": [
    "## Installing Required Packages <a class=\"anchor\" id=\"Installin\"></a>\n",
    "Before we begin, let's make sure we have all the necessary Python packages installed. You can run the following command to install any missing packages:\n"
   ]
  },
  {
   "cell_type": "code",
   "execution_count": null,
   "id": "de8ff4f0-699f-4a40-afff-11d31cd2558d",
   "metadata": {},
   "outputs": [],
   "source": [
    "!pip install --upgrade pip"
   ]
  },
  {
   "cell_type": "code",
   "execution_count": null,
   "id": "5563bbbe-7aeb-4529-9c09-4e0eaac5487e",
   "metadata": {},
   "outputs": [],
   "source": [
    "!pip install stepfunctions  omegaconf  nb-black"
   ]
  },
  {
   "cell_type": "code",
   "execution_count": null,
   "id": "2edb0890-69ae-4af5-947f-6e48f25d2c85",
   "metadata": {},
   "outputs": [],
   "source": [
    "! pip install -U sagemaker"
   ]
  },
  {
   "cell_type": "markdown",
   "id": "25b56c75-5533-4a16-9c70-4a5d82d0cdc1",
   "metadata": {},
   "source": [
    "### Auto-formatting and Auto-Reloading Configuration"
   ]
  },
  {
   "cell_type": "code",
   "execution_count": 1,
   "id": "1f622768-c2c0-4f7c-b677-8bb5472facd3",
   "metadata": {
    "tags": []
   },
   "outputs": [],
   "source": [
    "%load_ext lab_black\n",
    "%load_ext autoreload\n",
    "%autoreload 2"
   ]
  },
  {
   "cell_type": "markdown",
   "id": "7d2ca0cf-6094-4eb0-9c65-2f66e76cfe51",
   "metadata": {},
   "source": [
    "## Imports <a class=\"anchor\" id=\"imports\"></a>\n",
    "- Group all import statements here."
   ]
  },
  {
   "cell_type": "code",
   "execution_count": null,
   "id": "5bb2ab76-fc14-44d3-a82e-188becf9045a",
   "metadata": {},
   "outputs": [],
   "source": [
    "import os\n",
    "import time\n",
    "import boto3\n",
    "import sagemaker\n",
    "import stepfunctions\n",
    "from config import config\n",
    "from sagemaker import get_execution_role\n",
    "from sagemaker.sklearn.processing import SKLearnProcessor\n",
    "from sagemaker.huggingface import HuggingFace\n",
    "from stepfunctions import steps\n",
    "from botocore.config import Config\n",
    "from stepfunctions.inputs import ExecutionInput\n",
    "from stepfunctions.workflow import Workflow\n",
    "from stepfunctions.steps import (\n",
    "    Chain,\n",
    "    ChoiceRule,\n",
    "    ModelStep,\n",
    "    ProcessingStep,\n",
    "    TrainingStep,\n",
    "    TransformStep,\n",
    "    Parallel,\n",
    ")\n",
    "from sagemaker.processing import ProcessingInput, ProcessingOutput\n",
    "from dotenv import load_dotenv, find_dotenv"
   ]
  },
  {
   "cell_type": "markdown",
   "id": "d153b22d-44f2-44a4-8bb2-3ada1fb31f58",
   "metadata": {},
   "source": [
    "## Initialization <a class=\"anchor\" id=\"initialization\"></a>\n",
    "- Set up your environment, load data, and configure settings."
   ]
  },
  {
   "cell_type": "code",
   "execution_count": 2,
   "id": "9fa27b79-9698-4a7e-8a7d-33c8be438f6d",
   "metadata": {
    "tags": []
   },
   "outputs": [
    {
     "ename": "NameError",
     "evalue": "name 'load_dotenv' is not defined",
     "output_type": "error",
     "traceback": [
      "\u001b[0;31m---------------------------------------------------------------------------\u001b[0m",
      "\u001b[0;31mNameError\u001b[0m                                 Traceback (most recent call last)",
      "Cell \u001b[0;32mIn[2], line 1\u001b[0m\n\u001b[0;32m----> 1\u001b[0m _ \u001b[38;5;241m=\u001b[39m \u001b[43mload_dotenv\u001b[49m(find_dotenv())\n\u001b[1;32m      2\u001b[0m workflow_execution_role \u001b[38;5;241m=\u001b[39m os\u001b[38;5;241m.\u001b[39mgetenv(\u001b[38;5;124m\"\u001b[39m\u001b[38;5;124mSAGEMAKER_WORKFLOW_ROLE\u001b[39m\u001b[38;5;124m\"\u001b[39m)\n",
      "\u001b[0;31mNameError\u001b[0m: name 'load_dotenv' is not defined"
     ]
    }
   ],
   "source": [
    "# Load environment variables from a .env file\n",
    "_ = load_dotenv(find_dotenv())\n",
    "\n",
    "# Retrieve the SageMaker workflow execution role from environment variables\n",
    "workflow_execution_role = os.getenv(\"SAGEMAKER_WORKFLOW_ROLE\")\n"
   ]
  },
  {
   "cell_type": "code",
   "execution_count": 261,
   "id": "86499857-9ef3-4363-b14a-697d5dfaa021",
   "metadata": {
    "tags": []
   },
   "outputs": [],
   "source": [
    "execution_input = ExecutionInput(\n",
    "    schema={\n",
    "        \"JobName\": str,\n",
    "        \"PreprocessingJobName\": str,\n",
    "        \"TrainingJobName\": str,\n",
    "        \"ModelName\": str,\n",
    "        \"EndpointName\": str,\n",
    "    }\n",
    ")"
   ]
  },
  {
   "cell_type": "code",
   "execution_count": 262,
   "id": "4af7aeda-0940-4a7a-9743-c6f8b0f6f70f",
   "metadata": {
    "tags": []
   },
   "outputs": [],
   "source": [
    "# Define a Fail state for handling SageMaker processing job failures\n",
    "failed_state_sagemaker_processing_failure = stepfunctions.steps.states.Fail(\n",
    "    \"ML Workflow failed\",\n",
    "    cause=\"SageMakerProcessingJobFailed\"\n",
    ")\n",
    "\n",
    "# Define a Catch state for capturing specific errors and transitioning to the Fail state\n",
    "catch_state_processing = stepfunctions.steps.states.Catch(\n",
    "    error_equals=[\"States.TaskFailed\"],\n",
    "    next_step=failed_state_sagemaker_processing_failure\n",
    ")\n"
   ]
  },
  {
   "cell_type": "code",
   "execution_count": 263,
   "id": "8ac8a494-9a86-4a1f-a894-74a887f327fc",
   "metadata": {
    "tags": []
   },
   "outputs": [],
   "source": [
    "failed_state_sagemaker_training_failure = stepfunctions.steps.states.Fail(\n",
    "    \"ML Training failed\", cause=\"SageMakerTrainingJobFailed\"\n",
    ")\n",
    "\n",
    "catch_state_training = stepfunctions.steps.states.Catch(\n",
    "    error_equals=[\"States.TaskFailed\"],\n",
    "    next_step=failed_state_sagemaker_training_failure,\n",
    ")"
   ]
  },
  {
   "cell_type": "code",
   "execution_count": 263,
   "id": "9dc8de80-7977-44e7-bf4f-1143700120d8",
   "metadata": {
    "tags": []
   },
   "outputs": [],
   "source": [
    "failed_state_sagemaker_training_failure = stepfunctions.steps.states.Fail(\n",
    "    \"ML Save Model failed\", cause=\"SageMakerSaveModelJobFailed\"\n",
    ")\n",
    "\n",
    "catch_state_save_model = stepfunctions.steps.states.Catch(\n",
    "    error_equals=[\"States.TaskFailed\"],\n",
    "    next_step=failed_state_sagemaker_training_failure,\n",
    ")"
   ]
  },
  {
   "cell_type": "code",
   "execution_count": 264,
   "id": "cc21237b-cdfb-4151-b373-2f38948ad55f",
   "metadata": {
    "tags": []
   },
   "outputs": [],
   "source": [
    "failed_state_sagemaker_inference_failure = stepfunctions.steps.states.Fail(\n",
    "    \"ML Inference failed\", cause=\"SageMakerInferenceFailed\"\n",
    ")\n",
    "\n",
    "catch_state_inference = stepfunctions.steps.states.Catch(\n",
    "    error_equals=[\"States.TaskFailed\"],\n",
    "    next_step=failed_state_sagemaker_inference_failure,\n",
    ")"
   ]
  },
  {
   "cell_type": "markdown",
   "id": "88812830-a13c-4a4c-a696-1c47daa060f9",
   "metadata": {},
   "source": [
    "#### Sagemaker Configuration"
   ]
  },
  {
   "cell_type": "code",
   "execution_count": 255,
   "id": "bcfe0313-9a1d-4e37-8de1-f4d3b5ab4248",
   "metadata": {
    "tags": []
   },
   "outputs": [
    {
     "name": "stdout",
     "output_type": "stream",
     "text": [
      "{'total_max_attempts': 61, 'mode': 'legacy'}\n"
     ]
    }
   ],
   "source": [
    "# Create a SageMaker Boto3 client with custom configuration\n",
    "sm_boto = boto3.client(\n",
    "    \"sagemaker\",\n",
    "    config=Config(connect_timeout=5, read_timeout=60, retries={\"max_attempts\": 60}),\n",
    ")\n",
    "\n",
    "# Initialize a SageMaker session using the custom Boto3 client\n",
    "sagemaker_session = sagemaker.Session(sagemaker_client=sm_boto)\n",
    "\n",
    "# Retrieve the AWS region from the SageMaker session\n",
    "region = sagemaker_session.boto_session.region_name\n",
    "\n",
    "# Get the execution role required for SageMaker operations\n",
    "role = get_execution_role()\n",
    "\n",
    "# Retrieve configuration values for the S3 bucket and prefix\n",
    "bucket = config.s3.bucket\n",
    "prefix = config.s3.prefix\n",
    "s3_bucket_base_uri = config.s3.s3_bucket_base_uri\n"
   ]
  },
  {
   "cell_type": "markdown",
   "id": "669c1f9f-bf65-4814-bf9d-ca6e61936b28",
   "metadata": {},
   "source": [
    "# Functions"
   ]
  },
  {
   "cell_type": "code",
   "execution_count": null,
   "id": "8d025535-cab2-4ee3-ad4c-29eab922705c",
   "metadata": {},
   "outputs": [],
   "source": [
    "def job_name(jobname):\n",
    "    \"\"\"\n",
    "    Generate a unique job name for an Amazon SageMaker job based on a given 'jobname' and current timestamp.\n",
    "\n",
    "    Args:\n",
    "        jobname (str): A descriptive name for the job.\n",
    "\n",
    "    Returns:\n",
    "        str: A unique job name incorporating the 'jobname' and timestamp.\n",
    "    \"\"\"\n",
    "    return f\"MultiLabelClassification-{jobname}--{time.strftime('%Y%m%d%H%M%S', time.gmtime())}\"\n",
    "\n",
    "\n",
    "def upload_code(bucket_name, prefix_name, script_location):\n",
    "    \"\"\"\n",
    "    Upload code or script to an Amazon S3 bucket for use in SageMaker.\n",
    "\n",
    "    Args:\n",
    "        bucket_name (str): The name of the S3 bucket where the code will be uploaded.\n",
    "        prefix_name (str): The prefix or directory within the S3 bucket where the code will be stored.\n",
    "        script_location (str): The local path to the code or script file.\n",
    "\n",
    "    Returns:\n",
    "        str: The S3 URI of the uploaded code.\n",
    "    \"\"\"\n",
    "    return sagemaker_session.upload_data(\n",
    "        script_location,\n",
    "        bucket=bucket_name,\n",
    "        key_prefix=f\"{prefix_name}/{script_location}\",\n",
    "    )"
   ]
  },
  {
   "cell_type": "markdown",
   "id": "97860f7e-131b-42d4-a461-60c0b7d63900",
   "metadata": {},
   "source": [
    "## Data Preprocessing <a class=\"anchor\" id=\"data-preprocessing\"></a>\n",
    "- Describe how you preprocess and clean the data."
   ]
  },
  {
   "cell_type": "code",
   "execution_count": 265,
   "id": "45df644c-8bba-4bb0-b17d-27f967020f69",
   "metadata": {
    "tags": []
   },
   "outputs": [],
   "source": [
    "# Define the location of the preprocessing script within the project\n",
    "PREPROCESSING_SCRIPT_LOCATION = \"preprocess/code\"\n",
    "\n",
    "# Create the output path for preprocessing results using the S3 bucket base URI and prefix\n",
    "output_preprocess = \"{}/{}\".format(s3_bucket_base_uri, config.s3.prefix)\n"
   ]
  },
  {
   "cell_type": "code",
   "execution_count": 266,
   "id": "d7dacf17-bc63-405d-9683-e98f3292e433",
   "metadata": {},
   "outputs": [],
   "source": [
    "# Upload the preprocessing script to an S3 location and get the S3 URI\n",
    "input_code_preprocess = sagemaker_session.upload_data(\n",
    "    PREPROCESSING_SCRIPT_LOCATION,\n",
    "    bucket=bucket,\n",
    "    key_prefix=f\"{prefix}/{PREPROCESSING_SCRIPT_LOCATION}\",\n",
    ")"
   ]
  },
  {
   "cell_type": "code",
   "execution_count": 266,
   "id": "e30c6f63-af60-4450-974c-62c365544589",
   "metadata": {},
   "outputs": [],
   "source": [
    "# Define a list of ProcessingInput objects for the preprocessing job\n",
    "inputs_preprocess = [\n",
    "    ProcessingInput(\n",
    "        source=f\"{config.s3.s3_bucket_base_uri}/{config.s3.input}\",\n",
    "        destination=\"/opt/ml/processing/input\",\n",
    "        input_name=\"input-data\",\n",
    "    ),\n",
    "    ProcessingInput(\n",
    "        source=input_code_preprocess,\n",
    "        destination=\"/opt/ml/processing/input/code\",\n",
    "        input_name=\"code\",\n",
    "    ),\n",
    "    ProcessingInput(\n",
    "        source=f\"s3://{bucket}/{prefix}/{PREPROCESSING_SCRIPT_LOCATION}/config\",\n",
    "        destination=\"/opt/ml/processing/input/config\",\n",
    "        input_name=\"code-config\",\n",
    "    ),\n",
    "]"
   ]
  },
  {
   "cell_type": "code",
   "execution_count": 266,
   "id": "417c9fb1-c3c1-48ad-8ea1-ba0b01afe00d",
   "metadata": {},
   "outputs": [],
   "source": [
    "# Define a list of ProcessingOutput objects for the preprocessing job\n",
    "outputs_preprocess = [\n",
    "    ProcessingOutput(\n",
    "        source=\"/opt/ml/processing/train\",\n",
    "        destination=output_preprocess,\n",
    "        output_name=\"train_data\",\n",
    "    ),\n",
    "    ProcessingOutput(\n",
    "        source=\"/opt/ml/processing/test\",\n",
    "        destination=output_preprocess,\n",
    "        output_name=\"test_data\",\n",
    "    ),\n",
    "    ProcessingOutput(\n",
    "        source=\"/opt/ml/processing/labels\",\n",
    "        destination=output_preprocess,\n",
    "        output_name=\"labels_data\",\n",
    "    ),\n",
    "]"
   ]
  },
  {
   "cell_type": "code",
   "execution_count": null,
   "id": "9bd1743f-b5b9-4bea-a7fd-277b434a4d9c",
   "metadata": {
    "tags": []
   },
   "outputs": [],
   "source": []
  },
  {
   "cell_type": "code",
   "execution_count": 267,
   "id": "6596d16f-4467-4572-ac0c-26ef6c7d1739",
   "metadata": {},
   "outputs": [],
   "source": [
    "# Create a descriptive name for the preprocessing step, including a timestamp.\n",
    "preprocessing_step_name = f\"Multilabel Classification - Preprocessing Step {time.strftime('%Y%m%d%H%M%S', time.gmtime())}\"\n",
    "\n",
    "\n",
    "# Define an Amazon SageMaker SKLearnProcessor with custom settings.\n",
    "def sklearn_processor(instance_type=\"ml.m5.xlarge\"):\n",
    "    \"\"\"\n",
    "    Create an SKLearnProcessor instance for Amazon SageMaker processing jobs.\n",
    "\n",
    "    Args:\n",
    "        instance_type (str): The Amazon SageMaker instance type for processing jobs.\n",
    "\n",
    "    Returns:\n",
    "        sagemaker.processing.SKLearnProcessor: An instance of the SKLearnProcessor.\n",
    "    \"\"\"\n",
    "    return SKLearnProcessor(\n",
    "        framework_version=\"1.2-1\",\n",
    "        role=role,  # Ensure the 'role' variable is defined and appropriate.\n",
    "        instance_type=instance_type,\n",
    "        instance_count=1,\n",
    "        # max_runtime_in_seconds=1200,  # Uncomment and customize if needed.\n",
    "    )\n",
    "\n",
    "\n",
    "# Define the SageMaker processing step for data preprocessing.\n",
    "processing_step = ProcessingStep(\n",
    "    preprocessing_step_name,\n",
    "    processor=sklearn_processor(),\n",
    "    job_name=execution_input[\"PreprocessingJobName\"],\n",
    "    inputs=inputs_preprocess,  # Define your input data configuration here.\n",
    "    outputs=outputs_preprocess,  # Define your output data configuration here.\n",
    "    container_entrypoint=[\"python3\", \"/opt/ml/processing/input/code/run.py\"],\n",
    "    container_arguments=[\n",
    "        \"--train-test-split-ratio\",\n",
    "        \"0.2\",\n",
    "    ],  # Uncomment and customize if needed.\n",
    ")"
   ]
  },
  {
   "cell_type": "markdown",
   "id": "516e8f40-942f-4b2f-841c-7ed582e69df8",
   "metadata": {},
   "source": [
    "## Model Training <a class=\"anchor\" id=\"model-training\"></a>\n",
    "- Explain the machine learning models, algorithms, and training process."
   ]
  },
  {
   "cell_type": "code",
   "execution_count": 271,
   "id": "6ab56e2c-483f-480a-ad88-d55d858ae7e1",
   "metadata": {
    "jupyter": {
     "source_hidden": true
    },
    "tags": []
   },
   "outputs": [],
   "source": [
    "# Define a list of metric definitions for model evaluation\n",
    "metric_definitions = [\n",
    "    {\"Name\": \"eval_loss\", \"Regex\": \"'eval_loss': ([0-9]+(.|e\\-)[0-9]+),?\"},\n",
    "    {\"Name\": \"eval_accuracy\", \"Regex\": \"'eval_accuracy': ([0-9]+(.|e\\-)[0-9]+),?\"},\n",
    "    {\"Name\": \"eval_f1\", \"Regex\": \"'eval_f1': ([0-9]+(.|e\\-)[0-9]+),?\"},\n",
    "    {\"Name\": \"eval_roc\", \"Regex\": \"'eval_roc': ([0-9]+(.|e\\-)[0-9]+),?\"},\n",
    "    {\"Name\": \"eval_roc_auc\", \"Regex\": \"'eval_roc_auc': ([0-9]+(.|e\\-)[0-9]+),?\"},\n",
    "    {\"Name\": \"eval_precision\", \"Regex\": \"'eval_precision': ([0-9]+(.|e\\-)[0-9]+),?\"},\n",
    "    {\"Name\": \"eval_recall\", \"Regex\": \"'eval_recall': ([0-9]+(.|e\\-)[0-9]+),?\"},\n",
    "    {\"Name\": \"eval_runtime\", \"Regex\": \"'eval_runtime': ([0-9]+(.|e\\-)[0-9]+),?\"},\n",
    "    {\"Name\": \"eval_samples_per_second\", \"Regex\": \"'eval_samples_per_second': ([0-9]+(.|e\\-)[0-9]+),?\"},\n",
    "    {\"Name\": \"epoch\", \"Regex\": \"'epoch': ([0-9]+(.|e\\-)[0-9]+),?\"},\n",
    "]\n",
    "\n",
    "# Define instance volume configurations based on instance type\n",
    "instance_volume = {\n",
    "    \"ml.g4dn.16xlarge\": 900,\n",
    "    \"ml.g4dn.8xlarge\": 500,\n",
    "    \"ml.g4dn.4xlarge\": 225,\n",
    "    \"ml.g4dn.2xlarge\": 225,\n",
    "    \"ml.g4dn.xlarge\": 125,\n",
    "}\n",
    "\n",
    "# Define training parameters such as epochs, batch size, evaluation steps, instance type, and volume size\n",
    "params = {\n",
    "    \"epochs\": 1,\n",
    "    \"train-batch-size\": 8,\n",
    "    \"eval_steps\": 1,\n",
    "    \"instance_type\": \"ml.g4dn.4xlarge\",\n",
    "    \"volume_size\": 125,\n",
    "}\n"
   ]
  },
  {
   "cell_type": "code",
   "execution_count": 269,
   "id": "9525ac67-1762-46d6-a9e7-57ed9acf7d0b",
   "metadata": {
    "tags": []
   },
   "outputs": [
    {
     "data": {
      "text/plain": [
       "'s3://ck-qa-pldatascience/aws_mlOps/sagemaker-pipeline/stepfunctions/test.csv'"
      ]
     },
     "execution_count": 269,
     "metadata": {},
     "output_type": "execute_result"
    }
   ],
   "source": [
    "# Extract the ProcessingOutputConfig from the processing step's parameters\n",
    "output_config = processing_step.fields[\"parameters\"][\"ProcessingOutputConfig\"]\n",
    "\n",
    "# Initialize variables to store the S3 URIs for preprocessed data\n",
    "preprocessed_training_data = None\n",
    "preprocessed_test_data = None\n",
    "preprocessed_labels_data = None\n",
    "\n",
    "# Iterate through the list of outputs in the ProcessingOutputConfig\n",
    "for output in output_config[\"Outputs\"]:\n",
    "    if output[\"OutputName\"] == \"train_data\":\n",
    "        # Set the S3 URI for preprocessed training data\n",
    "        preprocessed_training_data = os.path.join(\n",
    "            output[\"S3Output\"][\"S3Uri\"], \"train.csv\"\n",
    "        )\n",
    "    if output[\"OutputName\"] == \"test_data\":\n",
    "        # Set the S3 URI for preprocessed test data\n",
    "        preprocessed_test_data = os.path.join(output[\"S3Output\"][\"S3Uri\"], \"test.csv\")\n",
    "    if output[\"OutputName\"] == \"labels_data\":\n",
    "        # Set the S3 URI for preprocessed labels data\n",
    "        preprocessed_labels_data = os.path.join(\n",
    "            output[\"S3Output\"][\"S3Uri\"], \"labels.csv\"\n",
    "        )\n",
    "\n"
   ]
  },
  {
   "cell_type": "code",
   "execution_count": 272,
   "id": "2b79911d-61bc-4920-9757-78e07d858362",
   "metadata": {
    "tags": []
   },
   "outputs": [],
   "source": [
    "def generate_estimator():\n",
    "    # Define the S3 URIs for checkpoints and training jobs\n",
    "    checkpoint_s3_uri = f\"s3://{config.s3.bucket}/{config.s3.prefix}/checkpoints\"\n",
    "    output_path = f\"s3://{config.s3.bucket}/{config.s3.prefix}/training_jobs\"\n",
    "    \n",
    "    # Define hyperparameters for the HuggingFace estimator\n",
    "    hyperparameters = {\n",
    "        \"model_name\": \"distilbert-base-uncased\",\n",
    "        \"epochs\": params[\"epochs\"],\n",
    "        \"train-batch-size\": params[\"train-batch-size\"],\n",
    "        \"output_dir\": checkpoint_s3_uri,  # Use the checkpoint S3 URI for output\n",
    "        \"eval_steps\": params[\"eval_steps\"],\n",
    "    }\n",
    "\n",
    "    # Create and configure the HuggingFace estimator for SageMaker\n",
    "    return HuggingFace(\n",
    "        entry_point=\"train.py\",  # Entry point script for training\n",
    "        source_dir=\"train/code\",  # Source directory containing training code\n",
    "        output_path=f\"{output_path}/\",  # Output path for storing model artifacts\n",
    "        code_location=output_path,\n",
    "        role=role,  # SageMaker execution role\n",
    "        base_job_name=f\"multi-label-classification\",  # Base job name for SageMaker job\n",
    "        checkpoint_s3_uri=checkpoint_s3_uri,  # Specify the checkpoint input path\n",
    "        instance_type=params[\"instance_type\"],  # SageMaker instance type for training\n",
    "        instance_count=1,  # Number of training instances\n",
    "        transformers_version=\"4.6\",\n",
    "        pytorch_version=\"1.7\",\n",
    "        py_version=\"py36\",\n",
    "        hyperparameters=hyperparameters,  # Hyperparameters for training\n",
    "        metric_definitions=metric_definitions,  # Metric definitions for evaluation\n",
    "        volume_size=instance_volume[params[\"instance_type\"]],  # Instance volume size\n",
    "        sagemaker_session=sagemaker_session,  # SageMaker session\n",
    "    )\n"
   ]
  },
  {
   "cell_type": "code",
   "execution_count": 274,
   "id": "2f46d298-80ce-4bc8-aa36-dd8468413b04",
   "metadata": {},
   "outputs": [],
   "source": [
    "def generate_data():\n",
    "    # Define the paths to preprocessed training, test, and labels data\n",
    "    train_path = preprocessed_training_data\n",
    "    test_path = preprocessed_test_data\n",
    "    labels_path = preprocessed_labels_data\n",
    "    \n",
    "    # Create a dictionary specifying the training data sources and content types\n",
    "    data = {\n",
    "        \"train\": sagemaker.TrainingInput(train_path, content_type=\"text/libsvm\"),\n",
    "        \"test\": sagemaker.TrainingInput(test_path, content_type=\"text/libsvm\"),\n",
    "        \"labels\": sagemaker.TrainingInput(labels_path, content_type=\"text/libsvm\"),\n",
    "    }\n",
    "\n",
    "    return data\n",
    "\n",
    "def generate_training_step(instance=\"ml.g4dn.2xlarge\"):\n",
    "    # Generate a unique job name based on the current timestamp\n",
    "    jobname = f\"multi-label-classification--{time.strftime('%Y%m%d%H%M%S', time.gmtime())}\"\n",
    "    \n",
    "    # Create a TrainingStep in the Step Functions workflow\n",
    "    training_step = steps.TrainingStep(\n",
    "        f\"Trainning -- instance {instance}\",  # Step name\n",
    "        estimator=generate_estimator(),  # Use the HuggingFace estimator\n",
    "        data=generate_data(),  # Specify training data sources\n",
    "        job_name=jobname,  # Job name for SageMaker training job\n",
    "        wait_for_completion=True,  # Wait for training job to complete\n",
    "    )\n",
    "    \n",
    "    return training_step, jobname\n"
   ]
  },
  {
   "cell_type": "code",
   "execution_count": 277,
   "id": "69e3dd0f-7b37-4246-96e6-7fce507434fd",
   "metadata": {
    "tags": []
   },
   "outputs": [
    {
     "name": "stdout",
     "output_type": "stream",
     "text": [
      "Using provided s3_resource\n"
     ]
    }
   ],
   "source": [
    "# Generate a SageMaker TrainingStep using the 'generate_training_step' function\n",
    "training_step, training_job_name = generate_training_step(params[\"instance_type\"])\n",
    "\n",
    "# Create a ModelStep to save the trained model\n",
    "model_step = steps.ModelStep(\n",
    "    \"Save model\",  # Step name\n",
    "    model=training_step.get_expected_model(),  # Use the model from the training step\n",
    "    model_name=training_job_name,  # Specify the model name\n",
    "    instance_type=params[\"instance_type\"],  # SageMaker instance type for model deployment\n",
    ")\n"
   ]
  },
  {
   "cell_type": "markdown",
   "id": "d5204556-bdff-4a94-82f5-e28fa9ebd470",
   "metadata": {},
   "source": [
    "# Create WorkFlow"
   ]
  },
  {
   "cell_type": "code",
   "execution_count": 285,
   "id": "af03c77f-59f5-47c4-80c1-75ed7bbdddcc",
   "metadata": {
    "tags": []
   },
   "outputs": [],
   "source": [
    "from stepfunctions.workflow import Workflow"
   ]
  },
  {
   "cell_type": "code",
   "execution_count": 294,
   "id": "58b2ffd0-4d6d-4ee4-ab1c-c0a5b9b4902d",
   "metadata": {
    "tags": []
   },
   "outputs": [],
   "source": [
    "# Add catch states to handle failures for processing, training, and model steps\n",
    "processing_step.add_catch(catch_state_processing)\n",
    "training_step.add_catch(catch_state_training)\n",
    "model_step.add_catch(catch_state_save_model)"
   ]
  },
  {
   "cell_type": "code",
   "execution_count": 294,
   "id": "b9c51994-2615-48b7-9c58-1e029305a623",
   "metadata": {
    "tags": []
   },
   "outputs": [],
   "source": [
    "# Create a workflow graph by chaining the processing, training, model, endpoint config, and endpoint steps\n",
    "workflow_graph = Chain([processing_step, training_step, model_step, endpoint_config_step, endpoint_step])"
   ]
  },
  {
   "cell_type": "code",
   "execution_count": 294,
   "id": "09bc48d4-80bb-4171-9a5e-08d169750efd",
   "metadata": {
    "tags": []
   },
   "outputs": [],
   "source": [
    "# Create a Step Functions workflow named 'MlOpsWorkflow' using the defined graph and execution role\n",
    "branching_workflow = Workflow(\n",
    "    name=job_name(\"MlOpsWorkflow\"),  # Specify the workflow name\n",
    "    definition=workflow_graph,  # Use the workflow graph as the definition\n",
    "    role=workflow_execution_role,  # Specify the execution role\n",
    ")"
   ]
  },
  {
   "cell_type": "code",
   "execution_count": 294,
   "id": "4e70003f-ba1b-4f51-9f0d-d1baea8fdff5",
   "metadata": {
    "tags": []
   },
   "outputs": [],
   "source": [
    "# Create the Step Functions workflow\n",
    "branching_workflow.create()"
   ]
  },
  {
   "cell_type": "markdown",
   "id": "c8c876ca-b66a-4d43-a43e-03435582cb10",
   "metadata": {},
   "source": [
    "# Execute WorkFlow & Deploy"
   ]
  },
  {
   "cell_type": "code",
   "execution_count": 294,
   "id": "01f6b9bc-166e-442e-89c9-d43f98e40287",
   "metadata": {
    "tags": []
   },
   "outputs": [],
   "source": [
    "# Execute the Step Functions workflow with input parameters\n",
    "execution = branching_workflow.execute(\n",
    "    inputs={\n",
    "        \"PreprocessingJobName\": job_name(\"PreprocessingJobName\"),\n",
    "        \"TrainingJobName\": job_name(\"TrainingJobName\"),\n",
    "        # Additional input parameters can be provided here if needed\n",
    "    }\n",
    ")"
   ]
  },
  {
   "cell_type": "code",
   "execution_count": 294,
   "id": "c682a12c-02bf-4351-98b5-cd34e3911326",
   "metadata": {
    "tags": []
   },
   "outputs": [],
   "source": [
    "# Get the output of the workflow execution (non-blocking, does not wait for completion)\n",
    "execution.get_output(wait=False)"
   ]
  },
  {
   "cell_type": "markdown",
   "id": "d0ffc9a3-8589-4299-8065-3a2b08dedaae",
   "metadata": {},
   "source": [
    "# Prediction"
   ]
  },
  {
   "cell_type": "code",
   "execution_count": null,
   "id": "577e17a4-0556-4c5d-8f51-7ca9e43f9b62",
   "metadata": {},
   "outputs": [],
   "source": [
    "from sagemaker.huggingface import HuggingFacePredictor\n",
    "\n",
    "# Create a predictor for your SageMaker endpoint\n",
    "predictor = HuggingFacePredictor(\n",
    "    endpoint_name=\"multi-label-classification--20230922090633\",\n",
    "    sagemaker_session=sagemaker_session,\n",
    ")\n",
    "\n",
    "# Define the input data as a list of strings\n",
    "inputs = [\"Streamlining Machine Learning Model Deployment with CI/CD and MLOps\"]\n",
    "\n",
    "# Create the payload as a JSON object\n",
    "payload = {\n",
    "    \"inputs\": inputs,\n",
    "    \"parameters\": {\"return_all_scores\": True},\n",
    "}\n",
    "\n",
    "# Make predictions\n",
    "predictions = predictor.predict(payload)\n",
    "\n",
    "# Print the predictions\n",
    "print(predictions)\n"
   ]
  },
  {
   "cell_type": "code",
   "execution_count": null,
   "id": "ca0d013f-25c9-424f-8f2f-603e36499ff6",
   "metadata": {
    "jupyter": {
     "source_hidden": true
    }
   },
   "outputs": [],
   "source": []
  }
 ],
 "metadata": {
  "availableInstances": [
   {
    "_defaultOrder": 0,
    "_isFastLaunch": true,
    "category": "General purpose",
    "gpuNum": 0,
    "hideHardwareSpecs": false,
    "memoryGiB": 4,
    "name": "ml.t3.medium",
    "vcpuNum": 2
   },
   {
    "_defaultOrder": 1,
    "_isFastLaunch": false,
    "category": "General purpose",
    "gpuNum": 0,
    "hideHardwareSpecs": false,
    "memoryGiB": 8,
    "name": "ml.t3.large",
    "vcpuNum": 2
   },
   {
    "_defaultOrder": 2,
    "_isFastLaunch": false,
    "category": "General purpose",
    "gpuNum": 0,
    "hideHardwareSpecs": false,
    "memoryGiB": 16,
    "name": "ml.t3.xlarge",
    "vcpuNum": 4
   },
   {
    "_defaultOrder": 3,
    "_isFastLaunch": false,
    "category": "General purpose",
    "gpuNum": 0,
    "hideHardwareSpecs": false,
    "memoryGiB": 32,
    "name": "ml.t3.2xlarge",
    "vcpuNum": 8
   },
   {
    "_defaultOrder": 4,
    "_isFastLaunch": true,
    "category": "General purpose",
    "gpuNum": 0,
    "hideHardwareSpecs": false,
    "memoryGiB": 8,
    "name": "ml.m5.large",
    "vcpuNum": 2
   },
   {
    "_defaultOrder": 5,
    "_isFastLaunch": false,
    "category": "General purpose",
    "gpuNum": 0,
    "hideHardwareSpecs": false,
    "memoryGiB": 16,
    "name": "ml.m5.xlarge",
    "vcpuNum": 4
   },
   {
    "_defaultOrder": 6,
    "_isFastLaunch": false,
    "category": "General purpose",
    "gpuNum": 0,
    "hideHardwareSpecs": false,
    "memoryGiB": 32,
    "name": "ml.m5.2xlarge",
    "vcpuNum": 8
   },
   {
    "_defaultOrder": 7,
    "_isFastLaunch": false,
    "category": "General purpose",
    "gpuNum": 0,
    "hideHardwareSpecs": false,
    "memoryGiB": 64,
    "name": "ml.m5.4xlarge",
    "vcpuNum": 16
   },
   {
    "_defaultOrder": 8,
    "_isFastLaunch": false,
    "category": "General purpose",
    "gpuNum": 0,
    "hideHardwareSpecs": false,
    "memoryGiB": 128,
    "name": "ml.m5.8xlarge",
    "vcpuNum": 32
   },
   {
    "_defaultOrder": 9,
    "_isFastLaunch": false,
    "category": "General purpose",
    "gpuNum": 0,
    "hideHardwareSpecs": false,
    "memoryGiB": 192,
    "name": "ml.m5.12xlarge",
    "vcpuNum": 48
   },
   {
    "_defaultOrder": 10,
    "_isFastLaunch": false,
    "category": "General purpose",
    "gpuNum": 0,
    "hideHardwareSpecs": false,
    "memoryGiB": 256,
    "name": "ml.m5.16xlarge",
    "vcpuNum": 64
   },
   {
    "_defaultOrder": 11,
    "_isFastLaunch": false,
    "category": "General purpose",
    "gpuNum": 0,
    "hideHardwareSpecs": false,
    "memoryGiB": 384,
    "name": "ml.m5.24xlarge",
    "vcpuNum": 96
   },
   {
    "_defaultOrder": 12,
    "_isFastLaunch": false,
    "category": "General purpose",
    "gpuNum": 0,
    "hideHardwareSpecs": false,
    "memoryGiB": 8,
    "name": "ml.m5d.large",
    "vcpuNum": 2
   },
   {
    "_defaultOrder": 13,
    "_isFastLaunch": false,
    "category": "General purpose",
    "gpuNum": 0,
    "hideHardwareSpecs": false,
    "memoryGiB": 16,
    "name": "ml.m5d.xlarge",
    "vcpuNum": 4
   },
   {
    "_defaultOrder": 14,
    "_isFastLaunch": false,
    "category": "General purpose",
    "gpuNum": 0,
    "hideHardwareSpecs": false,
    "memoryGiB": 32,
    "name": "ml.m5d.2xlarge",
    "vcpuNum": 8
   },
   {
    "_defaultOrder": 15,
    "_isFastLaunch": false,
    "category": "General purpose",
    "gpuNum": 0,
    "hideHardwareSpecs": false,
    "memoryGiB": 64,
    "name": "ml.m5d.4xlarge",
    "vcpuNum": 16
   },
   {
    "_defaultOrder": 16,
    "_isFastLaunch": false,
    "category": "General purpose",
    "gpuNum": 0,
    "hideHardwareSpecs": false,
    "memoryGiB": 128,
    "name": "ml.m5d.8xlarge",
    "vcpuNum": 32
   },
   {
    "_defaultOrder": 17,
    "_isFastLaunch": false,
    "category": "General purpose",
    "gpuNum": 0,
    "hideHardwareSpecs": false,
    "memoryGiB": 192,
    "name": "ml.m5d.12xlarge",
    "vcpuNum": 48
   },
   {
    "_defaultOrder": 18,
    "_isFastLaunch": false,
    "category": "General purpose",
    "gpuNum": 0,
    "hideHardwareSpecs": false,
    "memoryGiB": 256,
    "name": "ml.m5d.16xlarge",
    "vcpuNum": 64
   },
   {
    "_defaultOrder": 19,
    "_isFastLaunch": false,
    "category": "General purpose",
    "gpuNum": 0,
    "hideHardwareSpecs": false,
    "memoryGiB": 384,
    "name": "ml.m5d.24xlarge",
    "vcpuNum": 96
   },
   {
    "_defaultOrder": 20,
    "_isFastLaunch": false,
    "category": "General purpose",
    "gpuNum": 0,
    "hideHardwareSpecs": true,
    "memoryGiB": 0,
    "name": "ml.geospatial.interactive",
    "supportedImageNames": [
     "sagemaker-geospatial-v1-0"
    ],
    "vcpuNum": 0
   },
   {
    "_defaultOrder": 21,
    "_isFastLaunch": true,
    "category": "Compute optimized",
    "gpuNum": 0,
    "hideHardwareSpecs": false,
    "memoryGiB": 4,
    "name": "ml.c5.large",
    "vcpuNum": 2
   },
   {
    "_defaultOrder": 22,
    "_isFastLaunch": false,
    "category": "Compute optimized",
    "gpuNum": 0,
    "hideHardwareSpecs": false,
    "memoryGiB": 8,
    "name": "ml.c5.xlarge",
    "vcpuNum": 4
   },
   {
    "_defaultOrder": 23,
    "_isFastLaunch": false,
    "category": "Compute optimized",
    "gpuNum": 0,
    "hideHardwareSpecs": false,
    "memoryGiB": 16,
    "name": "ml.c5.2xlarge",
    "vcpuNum": 8
   },
   {
    "_defaultOrder": 24,
    "_isFastLaunch": false,
    "category": "Compute optimized",
    "gpuNum": 0,
    "hideHardwareSpecs": false,
    "memoryGiB": 32,
    "name": "ml.c5.4xlarge",
    "vcpuNum": 16
   },
   {
    "_defaultOrder": 25,
    "_isFastLaunch": false,
    "category": "Compute optimized",
    "gpuNum": 0,
    "hideHardwareSpecs": false,
    "memoryGiB": 72,
    "name": "ml.c5.9xlarge",
    "vcpuNum": 36
   },
   {
    "_defaultOrder": 26,
    "_isFastLaunch": false,
    "category": "Compute optimized",
    "gpuNum": 0,
    "hideHardwareSpecs": false,
    "memoryGiB": 96,
    "name": "ml.c5.12xlarge",
    "vcpuNum": 48
   },
   {
    "_defaultOrder": 27,
    "_isFastLaunch": false,
    "category": "Compute optimized",
    "gpuNum": 0,
    "hideHardwareSpecs": false,
    "memoryGiB": 144,
    "name": "ml.c5.18xlarge",
    "vcpuNum": 72
   },
   {
    "_defaultOrder": 28,
    "_isFastLaunch": false,
    "category": "Compute optimized",
    "gpuNum": 0,
    "hideHardwareSpecs": false,
    "memoryGiB": 192,
    "name": "ml.c5.24xlarge",
    "vcpuNum": 96
   },
   {
    "_defaultOrder": 29,
    "_isFastLaunch": true,
    "category": "Accelerated computing",
    "gpuNum": 1,
    "hideHardwareSpecs": false,
    "memoryGiB": 16,
    "name": "ml.g4dn.xlarge",
    "vcpuNum": 4
   },
   {
    "_defaultOrder": 30,
    "_isFastLaunch": false,
    "category": "Accelerated computing",
    "gpuNum": 1,
    "hideHardwareSpecs": false,
    "memoryGiB": 32,
    "name": "ml.g4dn.2xlarge",
    "vcpuNum": 8
   },
   {
    "_defaultOrder": 31,
    "_isFastLaunch": false,
    "category": "Accelerated computing",
    "gpuNum": 1,
    "hideHardwareSpecs": false,
    "memoryGiB": 64,
    "name": "ml.g4dn.4xlarge",
    "vcpuNum": 16
   },
   {
    "_defaultOrder": 32,
    "_isFastLaunch": false,
    "category": "Accelerated computing",
    "gpuNum": 1,
    "hideHardwareSpecs": false,
    "memoryGiB": 128,
    "name": "ml.g4dn.8xlarge",
    "vcpuNum": 32
   },
   {
    "_defaultOrder": 33,
    "_isFastLaunch": false,
    "category": "Accelerated computing",
    "gpuNum": 4,
    "hideHardwareSpecs": false,
    "memoryGiB": 192,
    "name": "ml.g4dn.12xlarge",
    "vcpuNum": 48
   },
   {
    "_defaultOrder": 34,
    "_isFastLaunch": false,
    "category": "Accelerated computing",
    "gpuNum": 1,
    "hideHardwareSpecs": false,
    "memoryGiB": 256,
    "name": "ml.g4dn.16xlarge",
    "vcpuNum": 64
   },
   {
    "_defaultOrder": 35,
    "_isFastLaunch": false,
    "category": "Accelerated computing",
    "gpuNum": 1,
    "hideHardwareSpecs": false,
    "memoryGiB": 61,
    "name": "ml.p3.2xlarge",
    "vcpuNum": 8
   },
   {
    "_defaultOrder": 36,
    "_isFastLaunch": false,
    "category": "Accelerated computing",
    "gpuNum": 4,
    "hideHardwareSpecs": false,
    "memoryGiB": 244,
    "name": "ml.p3.8xlarge",
    "vcpuNum": 32
   },
   {
    "_defaultOrder": 37,
    "_isFastLaunch": false,
    "category": "Accelerated computing",
    "gpuNum": 8,
    "hideHardwareSpecs": false,
    "memoryGiB": 488,
    "name": "ml.p3.16xlarge",
    "vcpuNum": 64
   },
   {
    "_defaultOrder": 38,
    "_isFastLaunch": false,
    "category": "Accelerated computing",
    "gpuNum": 8,
    "hideHardwareSpecs": false,
    "memoryGiB": 768,
    "name": "ml.p3dn.24xlarge",
    "vcpuNum": 96
   },
   {
    "_defaultOrder": 39,
    "_isFastLaunch": false,
    "category": "Memory Optimized",
    "gpuNum": 0,
    "hideHardwareSpecs": false,
    "memoryGiB": 16,
    "name": "ml.r5.large",
    "vcpuNum": 2
   },
   {
    "_defaultOrder": 40,
    "_isFastLaunch": false,
    "category": "Memory Optimized",
    "gpuNum": 0,
    "hideHardwareSpecs": false,
    "memoryGiB": 32,
    "name": "ml.r5.xlarge",
    "vcpuNum": 4
   },
   {
    "_defaultOrder": 41,
    "_isFastLaunch": false,
    "category": "Memory Optimized",
    "gpuNum": 0,
    "hideHardwareSpecs": false,
    "memoryGiB": 64,
    "name": "ml.r5.2xlarge",
    "vcpuNum": 8
   },
   {
    "_defaultOrder": 42,
    "_isFastLaunch": false,
    "category": "Memory Optimized",
    "gpuNum": 0,
    "hideHardwareSpecs": false,
    "memoryGiB": 128,
    "name": "ml.r5.4xlarge",
    "vcpuNum": 16
   },
   {
    "_defaultOrder": 43,
    "_isFastLaunch": false,
    "category": "Memory Optimized",
    "gpuNum": 0,
    "hideHardwareSpecs": false,
    "memoryGiB": 256,
    "name": "ml.r5.8xlarge",
    "vcpuNum": 32
   },
   {
    "_defaultOrder": 44,
    "_isFastLaunch": false,
    "category": "Memory Optimized",
    "gpuNum": 0,
    "hideHardwareSpecs": false,
    "memoryGiB": 384,
    "name": "ml.r5.12xlarge",
    "vcpuNum": 48
   },
   {
    "_defaultOrder": 45,
    "_isFastLaunch": false,
    "category": "Memory Optimized",
    "gpuNum": 0,
    "hideHardwareSpecs": false,
    "memoryGiB": 512,
    "name": "ml.r5.16xlarge",
    "vcpuNum": 64
   },
   {
    "_defaultOrder": 46,
    "_isFastLaunch": false,
    "category": "Memory Optimized",
    "gpuNum": 0,
    "hideHardwareSpecs": false,
    "memoryGiB": 768,
    "name": "ml.r5.24xlarge",
    "vcpuNum": 96
   },
   {
    "_defaultOrder": 47,
    "_isFastLaunch": false,
    "category": "Accelerated computing",
    "gpuNum": 1,
    "hideHardwareSpecs": false,
    "memoryGiB": 16,
    "name": "ml.g5.xlarge",
    "vcpuNum": 4
   },
   {
    "_defaultOrder": 48,
    "_isFastLaunch": false,
    "category": "Accelerated computing",
    "gpuNum": 1,
    "hideHardwareSpecs": false,
    "memoryGiB": 32,
    "name": "ml.g5.2xlarge",
    "vcpuNum": 8
   },
   {
    "_defaultOrder": 49,
    "_isFastLaunch": false,
    "category": "Accelerated computing",
    "gpuNum": 1,
    "hideHardwareSpecs": false,
    "memoryGiB": 64,
    "name": "ml.g5.4xlarge",
    "vcpuNum": 16
   },
   {
    "_defaultOrder": 50,
    "_isFastLaunch": false,
    "category": "Accelerated computing",
    "gpuNum": 1,
    "hideHardwareSpecs": false,
    "memoryGiB": 128,
    "name": "ml.g5.8xlarge",
    "vcpuNum": 32
   },
   {
    "_defaultOrder": 51,
    "_isFastLaunch": false,
    "category": "Accelerated computing",
    "gpuNum": 1,
    "hideHardwareSpecs": false,
    "memoryGiB": 256,
    "name": "ml.g5.16xlarge",
    "vcpuNum": 64
   },
   {
    "_defaultOrder": 52,
    "_isFastLaunch": false,
    "category": "Accelerated computing",
    "gpuNum": 4,
    "hideHardwareSpecs": false,
    "memoryGiB": 192,
    "name": "ml.g5.12xlarge",
    "vcpuNum": 48
   },
   {
    "_defaultOrder": 53,
    "_isFastLaunch": false,
    "category": "Accelerated computing",
    "gpuNum": 4,
    "hideHardwareSpecs": false,
    "memoryGiB": 384,
    "name": "ml.g5.24xlarge",
    "vcpuNum": 96
   },
   {
    "_defaultOrder": 54,
    "_isFastLaunch": false,
    "category": "Accelerated computing",
    "gpuNum": 8,
    "hideHardwareSpecs": false,
    "memoryGiB": 768,
    "name": "ml.g5.48xlarge",
    "vcpuNum": 192
   },
   {
    "_defaultOrder": 55,
    "_isFastLaunch": false,
    "category": "Accelerated computing",
    "gpuNum": 8,
    "hideHardwareSpecs": false,
    "memoryGiB": 1152,
    "name": "ml.p4d.24xlarge",
    "vcpuNum": 96
   },
   {
    "_defaultOrder": 56,
    "_isFastLaunch": false,
    "category": "Accelerated computing",
    "gpuNum": 8,
    "hideHardwareSpecs": false,
    "memoryGiB": 1152,
    "name": "ml.p4de.24xlarge",
    "vcpuNum": 96
   }
  ],
  "instance_type": "ml.t3.medium",
  "kernelspec": {
   "display_name": "aws_mlops",
   "language": "python",
   "name": "aws_mlops"
  },
  "language_info": {
   "codemirror_mode": {
    "name": "ipython",
    "version": 3
   },
   "file_extension": ".py",
   "mimetype": "text/x-python",
   "name": "python",
   "nbconvert_exporter": "python",
   "pygments_lexer": "ipython3",
   "version": "3.10.10"
  }
 },
 "nbformat": 4,
 "nbformat_minor": 5
}
