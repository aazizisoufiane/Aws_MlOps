{
 "cells": [
  {
   "cell_type": "markdown",
   "id": "17a3ea11-4161-4e5b-937b-e873350dbd63",
   "metadata": {},
   "source": [
    "![Author](https://img.shields.io/badge/Author-Soufiane%20AAZIZI-brightgreen)\n",
    "[![Medium](https://img.shields.io/badge/Medium-Follow%20Me-blue)](https://medium.com/@aazizi.soufiane)\n",
    "[![GitHub](https://img.shields.io/badge/GitHub-Follow%20Me-lightgrey)](https://github.com/aazizisoufiane)\n",
    "[![LinkedIn](https://img.shields.io/badge/LinkedIn-Connect%20with%20Me-informational)](https://www.linkedin.com/in/soufiane-aazizi-phd-a502829/)\n",
    "\n",
    "---\n",
    "# Streamlining Machine Learning Model Deployment with CI/CD and MLOps\n",
    "\n",
    "In today's ever-evolving landscape of data science and machine learning, proficiency in managing and deploying machine learning models has transitioned from a desirable skill to an absolute necessity. Aspiring data scientists are no longer solely responsible for building sophisticated models; they are also expected to seamlessly integrate these models into real-world applications. This is where the convergence of Continuous Integration and Continuous Deployment (CI/CD) and Machine Learning Operations (MLOps) takes center stage.\n",
    "\n",
    "In this Jupyter Notebook, we embark on an exciting journey into the realm of CI/CD and MLOps. Our goal is to demystify these crucial concepts and underscore their significance for emerging data scientists. Through hands-on exploration, we will delve into a project that harnesses the power of Amazon SageMaker and AWS Step Functions to simplify the entire process of data preprocessing, model training, and deployment. This project serves as an invaluable stepping stone for data scientists eager to acquire essential CI/CD and MLOps skills, further enhancing their appeal in today's competitive job market.\n",
    "\n",
    "Join us on this educational journey as we unlock the potential of CI/CD and MLOps in the context of machine learning, empowering you to take your data science expertise to the next level.\n",
    "## \n",
    "\n",
    "## Table of Contents\n",
    "- [Installing Required Packages](#Installing)\n",
    "- [Imports](#imports)\n",
    "- [Initialization](#initialization)\n",
    "- [Data Preprocessing](#data-preprocessing)\n",
    "- [Model Training](#model-training)\n",
    "- [Endpoint Configuration and Deployment](#Endpoint-config) \n",
    "- [Create WorkFlow](#Create-WorkFlow)\n",
    "- [Execute WorkFlow & Deploy](#Execute-WorkFlow) \n",
    "- [Prediction](#prediction) "
   ]
  },
  {
   "cell_type": "markdown",
   "id": "fd671d1b-d8b7-494d-b290-f9239e92e1e5",
   "metadata": {},
   "source": [
    "## Installing Required Packages <a class=\"anchor\" id=\"Installin\"></a>\n",
    "Before we begin, let's make sure we have all the necessary Python packages installed. You can run the following command to install any missing packages:\n"
   ]
  },
  {
   "cell_type": "code",
   "execution_count": 2,
   "id": "de8ff4f0-699f-4a40-afff-11d31cd2558d",
   "metadata": {},
   "outputs": [
    {
     "name": "stdout",
     "output_type": "stream",
     "text": [
      "Requirement already satisfied: pip in /opt/conda/lib/python3.7/site-packages (23.2.1)\n",
      "\u001B[33mDEPRECATION: nb-black 1.0.7 has a non-standard dependency specifier black>='19.3'; python_version >= \"3.6\". pip 23.3 will enforce this behaviour change. A possible replacement is to upgrade to a newer version of nb-black or contact the author to suggest that they release a version with a conforming dependency specifiers. Discussion can be found at https://github.com/pypa/pip/issues/12063\u001B[0m\u001B[33m\n",
      "\u001B[0m\u001B[33mDEPRECATION: pyodbc 4.0.0-unsupported has a non-standard version number. pip 23.3 will enforce this behaviour change. A possible replacement is to upgrade to a newer version of pyodbc or contact the author to suggest that they release a version with a conforming version number. Discussion can be found at https://github.com/pypa/pip/issues/12063\u001B[0m\u001B[33m\n",
      "\u001B[0m\u001B[33mWARNING: Running pip as the 'root' user can result in broken permissions and conflicting behaviour with the system package manager. It is recommended to use a virtual environment instead: https://pip.pypa.io/warnings/venv\u001B[0m\u001B[33m\n",
      "\u001B[0m"
     ]
    }
   ],
   "source": [
    "!pip install --upgrade pip"
   ]
  },
  {
   "cell_type": "code",
   "execution_count": 3,
   "id": "5563bbbe-7aeb-4529-9c09-4e0eaac5487e",
   "metadata": {
    "scrolled": true,
    "tags": []
   },
   "outputs": [
    {
     "name": "stdout",
     "output_type": "stream",
     "text": [
      "Requirement already satisfied: stepfunctions in /opt/conda/lib/python3.7/site-packages (2.3.0)\n",
      "Requirement already satisfied: omegaconf in /opt/conda/lib/python3.7/site-packages (2.3.0)\n",
      "Requirement already satisfied: nb-black in /root/.local/lib/python3.7/site-packages (1.0.7)\n",
      "Requirement already satisfied: sagemaker>=2.1.0 in /opt/conda/lib/python3.7/site-packages (from stepfunctions) (2.183.0)\n",
      "Requirement already satisfied: boto3>=1.14.38 in /opt/conda/lib/python3.7/site-packages (from stepfunctions) (1.28.26)\n",
      "Requirement already satisfied: pyyaml in /opt/conda/lib/python3.7/site-packages (from stepfunctions) (6.0.1)\n",
      "Requirement already satisfied: antlr4-python3-runtime==4.9.* in /opt/conda/lib/python3.7/site-packages (from omegaconf) (4.9.3)\n",
      "Requirement already satisfied: ipython in /opt/conda/lib/python3.7/site-packages (from nb-black) (7.34.0)\n",
      "Requirement already satisfied: black>='19.3' in /root/.local/lib/python3.7/site-packages (from nb-black) (21.12b0)\n",
      "Requirement already satisfied: click>=7.1.2 in /root/.local/lib/python3.7/site-packages (from black>='19.3'->nb-black) (8.0.3)\n",
      "Requirement already satisfied: platformdirs>=2 in /opt/conda/lib/python3.7/site-packages (from black>='19.3'->nb-black) (3.10.0)\n",
      "Requirement already satisfied: tomli<2.0.0,>=0.2.6 in /root/.local/lib/python3.7/site-packages (from black>='19.3'->nb-black) (1.2.3)\n",
      "Requirement already satisfied: pathspec<1,>=0.9.0 in /root/.local/lib/python3.7/site-packages (from black>='19.3'->nb-black) (0.9.0)\n",
      "Requirement already satisfied: typing-extensions>=3.10.0.0 in /opt/conda/lib/python3.7/site-packages (from black>='19.3'->nb-black) (4.7.1)\n",
      "Requirement already satisfied: mypy-extensions>=0.4.3 in /root/.local/lib/python3.7/site-packages (from black>='19.3'->nb-black) (0.4.3)\n",
      "Requirement already satisfied: typed-ast>=1.4.2 in /opt/conda/lib/python3.7/site-packages (from black>='19.3'->nb-black) (1.5.5)\n",
      "Requirement already satisfied: botocore<1.32.0,>=1.31.26 in /opt/conda/lib/python3.7/site-packages (from boto3>=1.14.38->stepfunctions) (1.31.26)\n",
      "Requirement already satisfied: jmespath<2.0.0,>=0.7.1 in /opt/conda/lib/python3.7/site-packages (from boto3>=1.14.38->stepfunctions) (1.0.1)\n",
      "Requirement already satisfied: s3transfer<0.7.0,>=0.6.0 in /opt/conda/lib/python3.7/site-packages (from boto3>=1.14.38->stepfunctions) (0.6.1)\n",
      "Requirement already satisfied: attrs<24,>=23.1.0 in /opt/conda/lib/python3.7/site-packages (from sagemaker>=2.1.0->stepfunctions) (23.1.0)\n",
      "Requirement already satisfied: cloudpickle==2.2.1 in /opt/conda/lib/python3.7/site-packages (from sagemaker>=2.1.0->stepfunctions) (2.2.1)\n",
      "Requirement already satisfied: google-pasta in /opt/conda/lib/python3.7/site-packages (from sagemaker>=2.1.0->stepfunctions) (0.2.0)\n",
      "Requirement already satisfied: numpy<2.0,>=1.9.0 in /opt/conda/lib/python3.7/site-packages (from sagemaker>=2.1.0->stepfunctions) (1.21.6)\n",
      "Requirement already satisfied: protobuf<5.0,>=3.12 in /opt/conda/lib/python3.7/site-packages (from sagemaker>=2.1.0->stepfunctions) (4.24.0)\n",
      "Requirement already satisfied: smdebug-rulesconfig==1.0.1 in /opt/conda/lib/python3.7/site-packages (from sagemaker>=2.1.0->stepfunctions) (1.0.1)\n",
      "Requirement already satisfied: importlib-metadata<7.0,>=1.4.0 in /opt/conda/lib/python3.7/site-packages (from sagemaker>=2.1.0->stepfunctions) (6.7.0)\n",
      "Requirement already satisfied: packaging>=20.0 in /opt/conda/lib/python3.7/site-packages (from sagemaker>=2.1.0->stepfunctions) (20.1)\n",
      "Requirement already satisfied: pandas in /opt/conda/lib/python3.7/site-packages (from sagemaker>=2.1.0->stepfunctions) (1.3.5)\n",
      "Requirement already satisfied: pathos in /opt/conda/lib/python3.7/site-packages (from sagemaker>=2.1.0->stepfunctions) (0.3.1)\n",
      "Requirement already satisfied: schema in /opt/conda/lib/python3.7/site-packages (from sagemaker>=2.1.0->stepfunctions) (0.7.5)\n",
      "Requirement already satisfied: jsonschema in /opt/conda/lib/python3.7/site-packages (from sagemaker>=2.1.0->stepfunctions) (3.2.0)\n",
      "Requirement already satisfied: tblib==1.7.0 in /opt/conda/lib/python3.7/site-packages (from sagemaker>=2.1.0->stepfunctions) (1.7.0)\n",
      "Requirement already satisfied: setuptools>=18.5 in /opt/conda/lib/python3.7/site-packages (from ipython->nb-black) (65.5.1)\n",
      "Requirement already satisfied: jedi>=0.16 in /opt/conda/lib/python3.7/site-packages (from ipython->nb-black) (0.19.0)\n",
      "Requirement already satisfied: decorator in /opt/conda/lib/python3.7/site-packages (from ipython->nb-black) (4.4.1)\n",
      "Requirement already satisfied: pickleshare in /opt/conda/lib/python3.7/site-packages (from ipython->nb-black) (0.7.5)\n",
      "Requirement already satisfied: traitlets>=4.2 in /opt/conda/lib/python3.7/site-packages (from ipython->nb-black) (5.9.0)\n",
      "Requirement already satisfied: prompt-toolkit!=3.0.0,!=3.0.1,<3.1.0,>=2.0.0 in /opt/conda/lib/python3.7/site-packages (from ipython->nb-black) (3.0.3)\n",
      "Requirement already satisfied: pygments in /opt/conda/lib/python3.7/site-packages (from ipython->nb-black) (2.16.1)\n",
      "Requirement already satisfied: backcall in /opt/conda/lib/python3.7/site-packages (from ipython->nb-black) (0.1.0)\n",
      "Requirement already satisfied: matplotlib-inline in /opt/conda/lib/python3.7/site-packages (from ipython->nb-black) (0.1.6)\n",
      "Requirement already satisfied: pexpect>4.3 in /opt/conda/lib/python3.7/site-packages (from ipython->nb-black) (4.8.0)\n",
      "Requirement already satisfied: python-dateutil<3.0.0,>=2.1 in /opt/conda/lib/python3.7/site-packages (from botocore<1.32.0,>=1.31.26->boto3>=1.14.38->stepfunctions) (2.8.2)\n",
      "Requirement already satisfied: urllib3<1.27,>=1.25.4 in /opt/conda/lib/python3.7/site-packages (from botocore<1.32.0,>=1.31.26->boto3>=1.14.38->stepfunctions) (1.26.16)\n",
      "Requirement already satisfied: zipp>=0.5 in /opt/conda/lib/python3.7/site-packages (from importlib-metadata<7.0,>=1.4.0->sagemaker>=2.1.0->stepfunctions) (2.2.0)\n",
      "Requirement already satisfied: parso<0.9.0,>=0.8.3 in /opt/conda/lib/python3.7/site-packages (from jedi>=0.16->ipython->nb-black) (0.8.3)\n",
      "Requirement already satisfied: pyparsing>=2.0.2 in /opt/conda/lib/python3.7/site-packages (from packaging>=20.0->sagemaker>=2.1.0->stepfunctions) (2.4.6)\n",
      "Requirement already satisfied: six in /opt/conda/lib/python3.7/site-packages (from packaging>=20.0->sagemaker>=2.1.0->stepfunctions) (1.14.0)\n",
      "Requirement already satisfied: ptyprocess>=0.5 in /opt/conda/lib/python3.7/site-packages (from pexpect>4.3->ipython->nb-black) (0.6.0)\n",
      "Requirement already satisfied: wcwidth in /opt/conda/lib/python3.7/site-packages (from prompt-toolkit!=3.0.0,!=3.0.1,<3.1.0,>=2.0.0->ipython->nb-black) (0.1.8)\n",
      "Requirement already satisfied: pyrsistent>=0.14.0 in /opt/conda/lib/python3.7/site-packages (from jsonschema->sagemaker>=2.1.0->stepfunctions) (0.15.7)\n",
      "Requirement already satisfied: pytz>=2017.3 in /opt/conda/lib/python3.7/site-packages (from pandas->sagemaker>=2.1.0->stepfunctions) (2019.3)\n",
      "Requirement already satisfied: ppft>=1.7.6.7 in /opt/conda/lib/python3.7/site-packages (from pathos->sagemaker>=2.1.0->stepfunctions) (1.7.6.7)\n",
      "Requirement already satisfied: dill>=0.3.7 in /opt/conda/lib/python3.7/site-packages (from pathos->sagemaker>=2.1.0->stepfunctions) (0.3.7)\n",
      "Requirement already satisfied: pox>=0.3.3 in /opt/conda/lib/python3.7/site-packages (from pathos->sagemaker>=2.1.0->stepfunctions) (0.3.3)\n",
      "Requirement already satisfied: multiprocess>=0.70.15 in /opt/conda/lib/python3.7/site-packages (from pathos->sagemaker>=2.1.0->stepfunctions) (0.70.15)\n",
      "Requirement already satisfied: contextlib2>=0.5.5 in /opt/conda/lib/python3.7/site-packages (from schema->sagemaker>=2.1.0->stepfunctions) (0.6.0.post1)\n",
      "\u001B[33mDEPRECATION: nb-black 1.0.7 has a non-standard dependency specifier black>='19.3'; python_version >= \"3.6\". pip 23.3 will enforce this behaviour change. A possible replacement is to upgrade to a newer version of nb-black or contact the author to suggest that they release a version with a conforming dependency specifiers. Discussion can be found at https://github.com/pypa/pip/issues/12063\u001B[0m\u001B[33m\n",
      "\u001B[0m\u001B[33mDEPRECATION: pyodbc 4.0.0-unsupported has a non-standard version number. pip 23.3 will enforce this behaviour change. A possible replacement is to upgrade to a newer version of pyodbc or contact the author to suggest that they release a version with a conforming version number. Discussion can be found at https://github.com/pypa/pip/issues/12063\u001B[0m\u001B[33m\n",
      "\u001B[0m\u001B[33mWARNING: Running pip as the 'root' user can result in broken permissions and conflicting behaviour with the system package manager. It is recommended to use a virtual environment instead: https://pip.pypa.io/warnings/venv\u001B[0m\u001B[33m\n",
      "\u001B[0m"
     ]
    }
   ],
   "source": [
    "!pip install stepfunctions  omegaconf  nb-black"
   ]
  },
  {
   "cell_type": "code",
   "execution_count": 4,
   "id": "2edb0890-69ae-4af5-947f-6e48f25d2c85",
   "metadata": {},
   "outputs": [
    {
     "name": "stdout",
     "output_type": "stream",
     "text": [
      "Requirement already satisfied: sagemaker in /opt/conda/lib/python3.7/site-packages (2.183.0)\n",
      "Requirement already satisfied: attrs<24,>=23.1.0 in /opt/conda/lib/python3.7/site-packages (from sagemaker) (23.1.0)\n",
      "Requirement already satisfied: boto3<2.0,>=1.26.131 in /opt/conda/lib/python3.7/site-packages (from sagemaker) (1.28.26)\n",
      "Requirement already satisfied: cloudpickle==2.2.1 in /opt/conda/lib/python3.7/site-packages (from sagemaker) (2.2.1)\n",
      "Requirement already satisfied: google-pasta in /opt/conda/lib/python3.7/site-packages (from sagemaker) (0.2.0)\n",
      "Requirement already satisfied: numpy<2.0,>=1.9.0 in /opt/conda/lib/python3.7/site-packages (from sagemaker) (1.21.6)\n",
      "Requirement already satisfied: protobuf<5.0,>=3.12 in /opt/conda/lib/python3.7/site-packages (from sagemaker) (4.24.0)\n",
      "Requirement already satisfied: smdebug-rulesconfig==1.0.1 in /opt/conda/lib/python3.7/site-packages (from sagemaker) (1.0.1)\n",
      "Requirement already satisfied: importlib-metadata<7.0,>=1.4.0 in /opt/conda/lib/python3.7/site-packages (from sagemaker) (6.7.0)\n",
      "Requirement already satisfied: packaging>=20.0 in /opt/conda/lib/python3.7/site-packages (from sagemaker) (20.1)\n",
      "Requirement already satisfied: pandas in /opt/conda/lib/python3.7/site-packages (from sagemaker) (1.3.5)\n",
      "Requirement already satisfied: pathos in /opt/conda/lib/python3.7/site-packages (from sagemaker) (0.3.1)\n",
      "Requirement already satisfied: schema in /opt/conda/lib/python3.7/site-packages (from sagemaker) (0.7.5)\n",
      "Requirement already satisfied: PyYAML~=6.0 in /opt/conda/lib/python3.7/site-packages (from sagemaker) (6.0.1)\n",
      "Requirement already satisfied: jsonschema in /opt/conda/lib/python3.7/site-packages (from sagemaker) (3.2.0)\n",
      "Requirement already satisfied: platformdirs in /opt/conda/lib/python3.7/site-packages (from sagemaker) (3.10.0)\n",
      "Requirement already satisfied: tblib==1.7.0 in /opt/conda/lib/python3.7/site-packages (from sagemaker) (1.7.0)\n",
      "Requirement already satisfied: botocore<1.32.0,>=1.31.26 in /opt/conda/lib/python3.7/site-packages (from boto3<2.0,>=1.26.131->sagemaker) (1.31.26)\n",
      "Requirement already satisfied: jmespath<2.0.0,>=0.7.1 in /opt/conda/lib/python3.7/site-packages (from boto3<2.0,>=1.26.131->sagemaker) (1.0.1)\n",
      "Requirement already satisfied: s3transfer<0.7.0,>=0.6.0 in /opt/conda/lib/python3.7/site-packages (from boto3<2.0,>=1.26.131->sagemaker) (0.6.1)\n",
      "Requirement already satisfied: zipp>=0.5 in /opt/conda/lib/python3.7/site-packages (from importlib-metadata<7.0,>=1.4.0->sagemaker) (2.2.0)\n",
      "Requirement already satisfied: typing-extensions>=3.6.4 in /opt/conda/lib/python3.7/site-packages (from importlib-metadata<7.0,>=1.4.0->sagemaker) (4.7.1)\n",
      "Requirement already satisfied: pyparsing>=2.0.2 in /opt/conda/lib/python3.7/site-packages (from packaging>=20.0->sagemaker) (2.4.6)\n",
      "Requirement already satisfied: six in /opt/conda/lib/python3.7/site-packages (from packaging>=20.0->sagemaker) (1.14.0)\n",
      "Requirement already satisfied: pyrsistent>=0.14.0 in /opt/conda/lib/python3.7/site-packages (from jsonschema->sagemaker) (0.15.7)\n",
      "Requirement already satisfied: setuptools in /opt/conda/lib/python3.7/site-packages (from jsonschema->sagemaker) (65.5.1)\n",
      "Requirement already satisfied: python-dateutil>=2.7.3 in /opt/conda/lib/python3.7/site-packages (from pandas->sagemaker) (2.8.2)\n",
      "Requirement already satisfied: pytz>=2017.3 in /opt/conda/lib/python3.7/site-packages (from pandas->sagemaker) (2019.3)\n",
      "Requirement already satisfied: ppft>=1.7.6.7 in /opt/conda/lib/python3.7/site-packages (from pathos->sagemaker) (1.7.6.7)\n",
      "Requirement already satisfied: dill>=0.3.7 in /opt/conda/lib/python3.7/site-packages (from pathos->sagemaker) (0.3.7)\n",
      "Requirement already satisfied: pox>=0.3.3 in /opt/conda/lib/python3.7/site-packages (from pathos->sagemaker) (0.3.3)\n",
      "Requirement already satisfied: multiprocess>=0.70.15 in /opt/conda/lib/python3.7/site-packages (from pathos->sagemaker) (0.70.15)\n",
      "Requirement already satisfied: contextlib2>=0.5.5 in /opt/conda/lib/python3.7/site-packages (from schema->sagemaker) (0.6.0.post1)\n",
      "Requirement already satisfied: urllib3<1.27,>=1.25.4 in /opt/conda/lib/python3.7/site-packages (from botocore<1.32.0,>=1.31.26->boto3<2.0,>=1.26.131->sagemaker) (1.26.16)\n",
      "\u001B[33mDEPRECATION: nb-black 1.0.7 has a non-standard dependency specifier black>='19.3'; python_version >= \"3.6\". pip 23.3 will enforce this behaviour change. A possible replacement is to upgrade to a newer version of nb-black or contact the author to suggest that they release a version with a conforming dependency specifiers. Discussion can be found at https://github.com/pypa/pip/issues/12063\u001B[0m\u001B[33m\n",
      "\u001B[0m\u001B[33mDEPRECATION: pyodbc 4.0.0-unsupported has a non-standard version number. pip 23.3 will enforce this behaviour change. A possible replacement is to upgrade to a newer version of pyodbc or contact the author to suggest that they release a version with a conforming version number. Discussion can be found at https://github.com/pypa/pip/issues/12063\u001B[0m\u001B[33m\n",
      "\u001B[0m\u001B[33mWARNING: Running pip as the 'root' user can result in broken permissions and conflicting behaviour with the system package manager. It is recommended to use a virtual environment instead: https://pip.pypa.io/warnings/venv\u001B[0m\u001B[33m\n",
      "\u001B[0m"
     ]
    }
   ],
   "source": [
    "! pip install -U sagemaker"
   ]
  },
  {
   "cell_type": "markdown",
   "id": "25b56c75-5533-4a16-9c70-4a5d82d0cdc1",
   "metadata": {},
   "source": [
    "### Auto-formatting and Auto-Reloading Configuration"
   ]
  },
  {
   "cell_type": "code",
   "execution_count": 5,
   "id": "1f622768-c2c0-4f7c-b677-8bb5472facd3",
   "metadata": {
    "tags": []
   },
   "outputs": [],
   "source": [
    "%load_ext lab_black\n",
    "%load_ext autoreload\n",
    "%autoreload 2"
   ]
  },
  {
   "cell_type": "markdown",
   "id": "7d2ca0cf-6094-4eb0-9c65-2f66e76cfe51",
   "metadata": {},
   "source": [
    "## Imports <a class=\"anchor\" id=\"imports\"></a>\n",
    "- Group all import statements here."
   ]
  },
  {
   "cell_type": "code",
   "execution_count": 6,
   "id": "5bb2ab76-fc14-44d3-a82e-188becf9045a",
   "metadata": {},
   "outputs": [],
   "source": [
    "import os\n",
    "import time\n",
    "import boto3\n",
    "import sagemaker\n",
    "import stepfunctions\n",
    "from config import config\n",
    "from sagemaker import get_execution_role\n",
    "from sagemaker.sklearn.processing import SKLearnProcessor\n",
    "from sagemaker.huggingface import HuggingFace\n",
    "from stepfunctions import steps\n",
    "from botocore.config import Config\n",
    "from stepfunctions.inputs import ExecutionInput\n",
    "from stepfunctions.workflow import Workflow\n",
    "from stepfunctions.steps import (\n",
    "    Chain,\n",
    "    ChoiceRule,\n",
    "    ModelStep,\n",
    "    ProcessingStep,\n",
    "    TrainingStep,\n",
    "    TransformStep,\n",
    "    Parallel,\n",
    ")\n",
    "from sagemaker.processing import ProcessingInput, ProcessingOutput\n",
    "from dotenv import load_dotenv, find_dotenv"
   ]
  },
  {
   "cell_type": "markdown",
   "id": "d153b22d-44f2-44a4-8bb2-3ada1fb31f58",
   "metadata": {},
   "source": [
    "## Initialization <a class=\"anchor\" id=\"initialization\"></a>\n",
    "- Set up environment, load data, and configure settings."
   ]
  },
  {
   "cell_type": "code",
   "execution_count": 7,
   "id": "9fa27b79-9698-4a7e-8a7d-33c8be438f6d",
   "metadata": {
    "tags": []
   },
   "outputs": [],
   "source": [
    "# Load environment variables from a .env file\n",
    "_ = load_dotenv(find_dotenv())\n",
    "\n",
    "# Retrieve the SageMaker workflow execution role from environment variables\n",
    "workflow_execution_role = os.getenv(\"SAGEMAKER_WORKFLOW_ROLE\")"
   ]
  },
  {
   "cell_type": "code",
   "execution_count": 8,
   "id": "86499857-9ef3-4363-b14a-697d5dfaa021",
   "metadata": {
    "tags": []
   },
   "outputs": [],
   "source": [
    "execution_input = ExecutionInput(\n",
    "    schema={\n",
    "        \"JobName\": str,\n",
    "        \"PreprocessingJobName\": str,\n",
    "        \"TrainingJobName\": str,\n",
    "        \"ModelName\": str,\n",
    "        \"EndpointName\": str,\n",
    "    }\n",
    ")"
   ]
  },
  {
   "cell_type": "code",
   "execution_count": 9,
   "id": "4af7aeda-0940-4a7a-9743-c6f8b0f6f70f",
   "metadata": {
    "tags": []
   },
   "outputs": [],
   "source": [
    "# Define a Fail state for handling SageMaker processing job failures\n",
    "failed_state_sagemaker_processing_failure = stepfunctions.steps.states.Fail(\n",
    "    \"ML Workflow failed\", cause=\"SageMakerProcessingJobFailed\"\n",
    ")\n",
    "\n",
    "# Define a Catch state for capturing specific errors and transitioning to the Fail state\n",
    "catch_state_processing = stepfunctions.steps.states.Catch(\n",
    "    error_equals=[\"States.TaskFailed\"],\n",
    "    next_step=failed_state_sagemaker_processing_failure,\n",
    ")"
   ]
  },
  {
   "cell_type": "code",
   "execution_count": 10,
   "id": "8ac8a494-9a86-4a1f-a894-74a887f327fc",
   "metadata": {
    "tags": []
   },
   "outputs": [],
   "source": [
    "failed_state_sagemaker_training_failure = stepfunctions.steps.states.Fail(\n",
    "    \"ML Training failed\", cause=\"SageMakerTrainingJobFailed\"\n",
    ")\n",
    "\n",
    "catch_state_training = stepfunctions.steps.states.Catch(\n",
    "    error_equals=[\"States.TaskFailed\"],\n",
    "    next_step=failed_state_sagemaker_training_failure,\n",
    ")"
   ]
  },
  {
   "cell_type": "code",
   "execution_count": 11,
   "id": "9dc8de80-7977-44e7-bf4f-1143700120d8",
   "metadata": {
    "tags": []
   },
   "outputs": [],
   "source": [
    "failed_state_sagemaker_training_failure = stepfunctions.steps.states.Fail(\n",
    "    \"ML Save Model failed\", cause=\"SageMakerSaveModelJobFailed\"\n",
    ")\n",
    "\n",
    "catch_state_save_model = stepfunctions.steps.states.Catch(\n",
    "    error_equals=[\"States.TaskFailed\"],\n",
    "    next_step=failed_state_sagemaker_training_failure,\n",
    ")"
   ]
  },
  {
   "cell_type": "code",
   "execution_count": 12,
   "id": "cc21237b-cdfb-4151-b373-2f38948ad55f",
   "metadata": {
    "tags": []
   },
   "outputs": [],
   "source": [
    "failed_state_sagemaker_inference_failure = stepfunctions.steps.states.Fail(\n",
    "    \"ML Inference failed\", cause=\"SageMakerInferenceFailed\"\n",
    ")\n",
    "\n",
    "catch_state_inference = stepfunctions.steps.states.Catch(\n",
    "    error_equals=[\"States.TaskFailed\"],\n",
    "    next_step=failed_state_sagemaker_inference_failure,\n",
    ")"
   ]
  },
  {
   "cell_type": "markdown",
   "id": "88812830-a13c-4a4c-a696-1c47daa060f9",
   "metadata": {},
   "source": [
    "#### Sagemaker Configuration"
   ]
  },
  {
   "cell_type": "code",
   "execution_count": 13,
   "id": "bcfe0313-9a1d-4e37-8de1-f4d3b5ab4248",
   "metadata": {
    "tags": []
   },
   "outputs": [
    {
     "name": "stderr",
     "output_type": "stream",
     "text": [
      "/opt/conda/lib/python3.7/site-packages/boto3/compat.py:82: PythonDeprecationWarning: Boto3 will no longer support Python 3.7 starting December 13, 2023. To continue receiving service updates, bug fixes, and security updates please upgrade to Python 3.8 or later. More information can be found here: https://aws.amazon.com/blogs/developer/python-support-policy-updates-for-aws-sdks-and-tools/\n",
      "  warnings.warn(warning, PythonDeprecationWarning)\n"
     ]
    }
   ],
   "source": [
    "# Create a SageMaker Boto3 client with custom configuration\n",
    "sm_boto = boto3.client(\n",
    "    \"sagemaker\",\n",
    "    config=Config(connect_timeout=5, read_timeout=60, retries={\"max_attempts\": 60}),\n",
    ")\n",
    "\n",
    "# Initialize a SageMaker session using the custom Boto3 client\n",
    "sagemaker_session = sagemaker.Session(sagemaker_client=sm_boto)\n",
    "\n",
    "# Retrieve the AWS region from the SageMaker session\n",
    "region = sagemaker_session.boto_session.region_name\n",
    "\n",
    "# Get the execution role required for SageMaker operations\n",
    "role = get_execution_role()\n",
    "\n",
    "# Retrieve configuration values for the S3 bucket and prefix\n",
    "bucket = config.s3.bucket\n",
    "prefix = config.s3.prefix\n",
    "s3_bucket_base_uri = config.s3.s3_bucket_base_uri"
   ]
  },
  {
   "cell_type": "markdown",
   "id": "669c1f9f-bf65-4814-bf9d-ca6e61936b28",
   "metadata": {},
   "source": [
    "# Functions"
   ]
  },
  {
   "cell_type": "code",
   "execution_count": 14,
   "id": "8d025535-cab2-4ee3-ad4c-29eab922705c",
   "metadata": {},
   "outputs": [],
   "source": [
    "def job_name(jobname):\n",
    "    \"\"\"\n",
    "    Generate a unique job name for an Amazon SageMaker job based on a given 'jobname' and current timestamp.\n",
    "\n",
    "    Args:\n",
    "        jobname (str): A descriptive name for the job.\n",
    "\n",
    "    Returns:\n",
    "        str: A unique job name incorporating the 'jobname' and timestamp.\n",
    "    \"\"\"\n",
    "    return f\"MultiLabelClassification-{jobname}--{time.strftime('%Y%m%d%H%M%S', time.gmtime())}\"\n",
    "\n",
    "\n",
    "def upload_code(bucket_name, prefix_name, script_location):\n",
    "    \"\"\"\n",
    "    Upload code or script to an Amazon S3 bucket for use in SageMaker.\n",
    "\n",
    "    Args:\n",
    "        bucket_name (str): The name of the S3 bucket where the code will be uploaded.\n",
    "        prefix_name (str): The prefix or directory within the S3 bucket where the code will be stored.\n",
    "        script_location (str): The local path to the code or script file.\n",
    "\n",
    "    Returns:\n",
    "        str: The S3 URI of the uploaded code.\n",
    "    \"\"\"\n",
    "    return sagemaker_session.upload_data(\n",
    "        script_location,\n",
    "        bucket=bucket_name,\n",
    "        key_prefix=f\"{prefix_name}/{script_location}\",\n",
    "    )"
   ]
  },
  {
   "cell_type": "markdown",
   "id": "97860f7e-131b-42d4-a461-60c0b7d63900",
   "metadata": {},
   "source": [
    "## Data Preprocessing <a class=\"anchor\" id=\"data-preprocessing\"></a>"
   ]
  },
  {
   "cell_type": "code",
   "execution_count": 15,
   "id": "45df644c-8bba-4bb0-b17d-27f967020f69",
   "metadata": {
    "tags": []
   },
   "outputs": [],
   "source": [
    "# Define the location of the preprocessing script within the project\n",
    "PREPROCESSING_SCRIPT_LOCATION = \"preprocess/code\"\n",
    "\n",
    "# Create the output path for preprocessing results using the S3 bucket base URI and prefix\n",
    "output_preprocess = \"{}/{}\".format(s3_bucket_base_uri, config.s3.prefix)"
   ]
  },
  {
   "cell_type": "code",
   "execution_count": 16,
   "id": "d7dacf17-bc63-405d-9683-e98f3292e433",
   "metadata": {},
   "outputs": [],
   "source": [
    "# Upload the preprocessing script to an S3 location and get the S3 URI\n",
    "input_code_preprocess = sagemaker_session.upload_data(\n",
    "    PREPROCESSING_SCRIPT_LOCATION,\n",
    "    bucket=bucket,\n",
    "    key_prefix=f\"{prefix}/{PREPROCESSING_SCRIPT_LOCATION}\",\n",
    ")"
   ]
  },
  {
   "cell_type": "code",
   "execution_count": 17,
   "id": "e30c6f63-af60-4450-974c-62c365544589",
   "metadata": {},
   "outputs": [],
   "source": [
    "# Define a list of ProcessingInput objects for the preprocessing job\n",
    "inputs_preprocess = [\n",
    "    ProcessingInput(\n",
    "        source=f\"{config.s3.s3_bucket_base_uri}/{config.s3.input}\",\n",
    "        destination=\"/opt/ml/processing/input\",\n",
    "        input_name=\"input-data\",\n",
    "    ),\n",
    "    ProcessingInput(\n",
    "        source=input_code_preprocess,\n",
    "        destination=\"/opt/ml/processing/input/code\",\n",
    "        input_name=\"code\",\n",
    "    ),\n",
    "    ProcessingInput(\n",
    "        source=f\"s3://{bucket}/{prefix}/{PREPROCESSING_SCRIPT_LOCATION}/config\",\n",
    "        destination=\"/opt/ml/processing/input/config\",\n",
    "        input_name=\"code-config\",\n",
    "    ),\n",
    "]"
   ]
  },
  {
   "cell_type": "code",
   "execution_count": 18,
   "id": "417c9fb1-c3c1-48ad-8ea1-ba0b01afe00d",
   "metadata": {},
   "outputs": [],
   "source": [
    "# Define a list of ProcessingOutput objects for the preprocessing job\n",
    "outputs_preprocess = [\n",
    "    ProcessingOutput(\n",
    "        source=\"/opt/ml/processing/train\",\n",
    "        destination=output_preprocess,\n",
    "        output_name=\"train_data\",\n",
    "    ),\n",
    "    ProcessingOutput(\n",
    "        source=\"/opt/ml/processing/test\",\n",
    "        destination=output_preprocess,\n",
    "        output_name=\"test_data\",\n",
    "    ),\n",
    "    ProcessingOutput(\n",
    "        source=\"/opt/ml/processing/labels\",\n",
    "        destination=output_preprocess,\n",
    "        output_name=\"labels_data\",\n",
    "    ),\n",
    "]"
   ]
  },
  {
   "cell_type": "code",
   "execution_count": 19,
   "id": "6596d16f-4467-4572-ac0c-26ef6c7d1739",
   "metadata": {},
   "outputs": [],
   "source": [
    "# Create a descriptive name for the preprocessing step, including a timestamp.\n",
    "preprocessing_step_name = f\"Multilabel Classification - Preprocessing Step {time.strftime('%Y%m%d%H%M%S', time.gmtime())}\"\n",
    "\n",
    "\n",
    "# Define an Amazon SageMaker SKLearnProcessor with custom settings.\n",
    "def sklearn_processor(instance_type=\"ml.m5.xlarge\"):\n",
    "    \"\"\"\n",
    "    Create an SKLearnProcessor instance for Amazon SageMaker processing jobs.\n",
    "\n",
    "    Args:\n",
    "        instance_type (str): The Amazon SageMaker instance type for processing jobs.\n",
    "\n",
    "    Returns:\n",
    "        sagemaker.processing.SKLearnProcessor: An instance of the SKLearnProcessor.\n",
    "    \"\"\"\n",
    "    return SKLearnProcessor(\n",
    "        framework_version=\"1.2-1\",\n",
    "        role=role,  # Ensure the 'role' variable is defined and appropriate.\n",
    "        instance_type=instance_type,\n",
    "        instance_count=1,\n",
    "        # max_runtime_in_seconds=1200,  # Uncomment and customize if needed.\n",
    "    )\n",
    "\n",
    "\n",
    "# Define the SageMaker processing step for data preprocessing.\n",
    "processing_step = ProcessingStep(\n",
    "    preprocessing_step_name,\n",
    "    processor=sklearn_processor(),\n",
    "    job_name=execution_input[\"PreprocessingJobName\"],\n",
    "    inputs=inputs_preprocess,  # Define your input data configuration here.\n",
    "    outputs=outputs_preprocess,  # Define your output data configuration here.\n",
    "    container_entrypoint=[\"python3\", \"/opt/ml/processing/input/code/run.py\"],\n",
    "    container_arguments=[\n",
    "        \"--train-test-split-ratio\",\n",
    "        \"0.2\",\n",
    "    ],  # Uncomment and customize if needed.\n",
    ")"
   ]
  },
  {
   "cell_type": "markdown",
   "id": "516e8f40-942f-4b2f-841c-7ed582e69df8",
   "metadata": {},
   "source": [
    "## Model Training <a class=\"anchor\" id=\"model-training\"></a>"
   ]
  },
  {
   "cell_type": "code",
   "execution_count": 20,
   "id": "6ab56e2c-483f-480a-ad88-d55d858ae7e1",
   "metadata": {
    "tags": []
   },
   "outputs": [],
   "source": [
    "# Define a list of metric definitions for model evaluation\n",
    "metric_definitions = [\n",
    "    {\"Name\": \"eval_loss\", \"Regex\": \"'eval_loss': ([0-9]+(.|e\\-)[0-9]+),?\"},\n",
    "    {\"Name\": \"eval_accuracy\", \"Regex\": \"'eval_accuracy': ([0-9]+(.|e\\-)[0-9]+),?\"},\n",
    "    {\"Name\": \"eval_f1\", \"Regex\": \"'eval_f1': ([0-9]+(.|e\\-)[0-9]+),?\"},\n",
    "    {\"Name\": \"eval_roc\", \"Regex\": \"'eval_roc': ([0-9]+(.|e\\-)[0-9]+),?\"},\n",
    "    {\"Name\": \"eval_roc_auc\", \"Regex\": \"'eval_roc_auc': ([0-9]+(.|e\\-)[0-9]+),?\"},\n",
    "    {\"Name\": \"eval_precision\", \"Regex\": \"'eval_precision': ([0-9]+(.|e\\-)[0-9]+),?\"},\n",
    "    {\"Name\": \"eval_recall\", \"Regex\": \"'eval_recall': ([0-9]+(.|e\\-)[0-9]+),?\"},\n",
    "    {\"Name\": \"eval_runtime\", \"Regex\": \"'eval_runtime': ([0-9]+(.|e\\-)[0-9]+),?\"},\n",
    "    {\n",
    "        \"Name\": \"eval_samples_per_second\",\n",
    "        \"Regex\": \"'eval_samples_per_second': ([0-9]+(.|e\\-)[0-9]+),?\",\n",
    "    },\n",
    "    {\"Name\": \"epoch\", \"Regex\": \"'epoch': ([0-9]+(.|e\\-)[0-9]+),?\"},\n",
    "]\n",
    "\n",
    "# Define instance volume configurations based on instance type\n",
    "instance_volume = {\n",
    "    \"ml.g4dn.16xlarge\": 900,\n",
    "    \"ml.g4dn.8xlarge\": 500,\n",
    "    \"ml.g4dn.4xlarge\": 225,\n",
    "    \"ml.g4dn.2xlarge\": 225,\n",
    "    \"ml.g4dn.xlarge\": 125,\n",
    "}\n",
    "\n",
    "# Define training parameters such as epochs, batch size, evaluation steps, instance type, and volume size\n",
    "params = {\n",
    "    \"epochs\": 1,\n",
    "    \"train-batch-size\": 8,\n",
    "    \"eval_steps\": 1,\n",
    "    \"instance_type\": \"ml.g4dn.4xlarge\",\n",
    "    \"volume_size\": 125,\n",
    "}"
   ]
  },
  {
   "cell_type": "code",
   "execution_count": 21,
   "id": "9525ac67-1762-46d6-a9e7-57ed9acf7d0b",
   "metadata": {
    "tags": []
   },
   "outputs": [],
   "source": [
    "# Extract the ProcessingOutputConfig from the processing step's parameters\n",
    "output_config = processing_step.fields[\"parameters\"][\"ProcessingOutputConfig\"]\n",
    "\n",
    "# Initialize variables to store the S3 URIs for preprocessed data\n",
    "preprocessed_training_data = None\n",
    "preprocessed_test_data = None\n",
    "preprocessed_labels_data = None\n",
    "\n",
    "# Iterate through the list of outputs in the ProcessingOutputConfig\n",
    "for output in output_config[\"Outputs\"]:\n",
    "    if output[\"OutputName\"] == \"train_data\":\n",
    "        # Set the S3 URI for preprocessed training data\n",
    "        preprocessed_training_data = os.path.join(\n",
    "            output[\"S3Output\"][\"S3Uri\"], \"train.csv\"\n",
    "        )\n",
    "    if output[\"OutputName\"] == \"test_data\":\n",
    "        # Set the S3 URI for preprocessed test data\n",
    "        preprocessed_test_data = os.path.join(output[\"S3Output\"][\"S3Uri\"], \"test.csv\")\n",
    "    if output[\"OutputName\"] == \"labels_data\":\n",
    "        # Set the S3 URI for preprocessed labels data\n",
    "        preprocessed_labels_data = os.path.join(\n",
    "            output[\"S3Output\"][\"S3Uri\"], \"labels.csv\"\n",
    "        )"
   ]
  },
  {
   "cell_type": "code",
   "execution_count": 22,
   "id": "2b79911d-61bc-4920-9757-78e07d858362",
   "metadata": {
    "tags": []
   },
   "outputs": [],
   "source": [
    "def generate_estimator():\n",
    "    # Define the S3 URIs for checkpoints and training jobs\n",
    "    checkpoint_s3_uri = f\"s3://{config.s3.bucket}/{config.s3.prefix}/checkpoints\"\n",
    "    output_path = f\"s3://{config.s3.bucket}/{config.s3.prefix}/training_jobs\"\n",
    "\n",
    "    # Define hyperparameters for the HuggingFace estimator\n",
    "    hyperparameters = {\n",
    "        \"model_name\": \"distilbert-base-uncased\",\n",
    "        \"epochs\": params[\"epochs\"],\n",
    "        \"train-batch-size\": params[\"train-batch-size\"],\n",
    "        \"output_dir\": checkpoint_s3_uri,  # Use the checkpoint S3 URI for output\n",
    "        \"eval_steps\": params[\"eval_steps\"],\n",
    "    }\n",
    "\n",
    "    # Create and configure the HuggingFace estimator for SageMaker\n",
    "    return HuggingFace(\n",
    "        entry_point=\"train.py\",  # Entry point script for training\n",
    "        source_dir=\"train/code\",  # Source directory containing training code\n",
    "        output_path=f\"{output_path}/\",  # Output path for storing model artifacts\n",
    "        code_location=output_path,\n",
    "        role=role,  # SageMaker execution role\n",
    "        base_job_name=f\"multi-label-classification\",  # Base job name for SageMaker job\n",
    "        checkpoint_s3_uri=checkpoint_s3_uri,  # Specify the checkpoint input path\n",
    "        instance_type=params[\"instance_type\"],  # SageMaker instance type for training\n",
    "        instance_count=1,  # Number of training instances\n",
    "        transformers_version=\"4.6\",\n",
    "        pytorch_version=\"1.7\",\n",
    "        py_version=\"py36\",\n",
    "        hyperparameters=hyperparameters,  # Hyperparameters for training\n",
    "        metric_definitions=metric_definitions,  # Metric definitions for evaluation\n",
    "        volume_size=instance_volume[params[\"instance_type\"]],  # Instance volume size\n",
    "        sagemaker_session=sagemaker_session,  # SageMaker session\n",
    "    )"
   ]
  },
  {
   "cell_type": "code",
   "execution_count": 23,
   "id": "2f46d298-80ce-4bc8-aa36-dd8468413b04",
   "metadata": {},
   "outputs": [],
   "source": [
    "def generate_data():\n",
    "    # Define the paths to preprocessed training, test, and labels data\n",
    "    train_path = preprocessed_training_data\n",
    "    test_path = preprocessed_test_data\n",
    "    labels_path = preprocessed_labels_data\n",
    "\n",
    "    # Create a dictionary specifying the training data sources and content types\n",
    "    data = {\n",
    "        \"train\": sagemaker.TrainingInput(train_path, content_type=\"text/libsvm\"),\n",
    "        \"test\": sagemaker.TrainingInput(test_path, content_type=\"text/libsvm\"),\n",
    "        \"labels\": sagemaker.TrainingInput(labels_path, content_type=\"text/libsvm\"),\n",
    "    }\n",
    "\n",
    "    return data\n",
    "\n",
    "\n",
    "def generate_training_step(instance=\"ml.g4dn.2xlarge\"):\n",
    "    # Generate a unique job name based on the current timestamp\n",
    "    jobname = (\n",
    "        f\"multi-label-classification--{time.strftime('%Y%m%d%H%M%S', time.gmtime())}\"\n",
    "    )\n",
    "\n",
    "    # Create a TrainingStep in the Step Functions workflow\n",
    "    training_step = steps.TrainingStep(\n",
    "        f\"Trainning -- instance {instance}\",  # Step name\n",
    "        estimator=generate_estimator(),  # Use the HuggingFace estimator\n",
    "        data=generate_data(),  # Specify training data sources\n",
    "        job_name=jobname,  # Job name for SageMaker training job\n",
    "        wait_for_completion=True,  # Wait for training job to complete\n",
    "    )\n",
    "\n",
    "    return training_step, jobname"
   ]
  },
  {
   "cell_type": "code",
   "execution_count": 24,
   "id": "69e3dd0f-7b37-4246-96e6-7fce507434fd",
   "metadata": {
    "tags": []
   },
   "outputs": [
    {
     "name": "stdout",
     "output_type": "stream",
     "text": [
      "Using provided s3_resource\n"
     ]
    }
   ],
   "source": [
    "# Generate a SageMaker TrainingStep using the 'generate_training_step' function\n",
    "training_step, training_job_name = generate_training_step(params[\"instance_type\"])\n",
    "\n",
    "# Create a ModelStep to save the trained model\n",
    "model_step = steps.ModelStep(\n",
    "    \"Save model\",  # Step name\n",
    "    model=training_step.get_expected_model(),  # Use the model from the training step\n",
    "    model_name=training_job_name,  # Specify the model name\n",
    "    instance_type=params[\n",
    "        \"instance_type\"\n",
    "    ],  # SageMaker instance type for model deployment\n",
    ")"
   ]
  },
  {
   "cell_type": "markdown",
   "id": "e13c4b03-7804-46cb-a9ee-2f72c9eb6dd7",
   "metadata": {},
   "source": [
    "# Endpoint Configuration and Deployment <a class=\"anchor\" id=\"Endpoint-config\"></a>"
   ]
  },
  {
   "cell_type": "code",
   "execution_count": 28,
   "id": "8c42d7f2-9113-4416-bc27-0fd4901e5d1b",
   "metadata": {
    "tags": []
   },
   "outputs": [],
   "source": [
    "# Define an Endpoint Configuration Step to create an endpoint configuration.\n",
    "endpoint_config_step = steps.EndpointConfigStep(\n",
    "    \"Create Endpoint Config\",\n",
    "    endpoint_config_name=training_job_name,  # Use the training job name as the endpoint config name\n",
    "    model_name=training_job_name,  # Use the training job name as the model name\n",
    "    initial_instance_count=1,\n",
    "    instance_type=\"ml.m5.large\",\n",
    ")\n",
    "\n",
    "# Define an Endpoint Step to create the actual endpoint.\n",
    "endpoint_step = steps.EndpointStep(\n",
    "    \"Create Endpoint\",\n",
    "    endpoint_name=training_job_name,  # Use the training job name as the endpoint name\n",
    "    endpoint_config_name=training_job_name,  # Use the training job name as the endpoint config name\n",
    ")\n"
   ]
  },
  {
   "cell_type": "markdown",
   "id": "d5204556-bdff-4a94-82f5-e28fa9ebd470",
   "metadata": {},
   "source": [
    "# Create WorkFlow <a class=\"anchor\" id=\"Create-WorkFlow\"></a>"
   ]
  },
  {
   "cell_type": "code",
   "execution_count": 29,
   "id": "af03c77f-59f5-47c4-80c1-75ed7bbdddcc",
   "metadata": {
    "tags": []
   },
   "outputs": [],
   "source": [
    "from stepfunctions.workflow import Workflow"
   ]
  },
  {
   "cell_type": "code",
   "execution_count": 30,
   "id": "58b2ffd0-4d6d-4ee4-ab1c-c0a5b9b4902d",
   "metadata": {
    "tags": []
   },
   "outputs": [],
   "source": [
    "# Add catch states to handle failures for processing, training, and model steps\n",
    "processing_step.add_catch(catch_state_processing)\n",
    "training_step.add_catch(catch_state_training)\n",
    "model_step.add_catch(catch_state_save_model)\n",
    "endpoint_step.add_catch(catch_state_inference)"
   ]
  },
  {
   "cell_type": "code",
   "execution_count": 31,
   "id": "b9c51994-2615-48b7-9c58-1e029305a623",
   "metadata": {
    "tags": []
   },
   "outputs": [],
   "source": [
    "# Create a workflow graph by chaining the processing, training, model, endpoint config, and endpoint steps\n",
    "workflow_graph = Chain(\n",
    "    [processing_step, training_step, model_step, endpoint_config_step, endpoint_step]\n",
    ")"
   ]
  },
  {
   "cell_type": "code",
   "execution_count": 32,
   "id": "09bc48d4-80bb-4171-9a5e-08d169750efd",
   "metadata": {
    "tags": []
   },
   "outputs": [],
   "source": [
    "# Create a Step Functions workflow named 'MlOpsWorkflow' using the defined graph and execution role\n",
    "branching_workflow = Workflow(\n",
    "    name=job_name(\"MlOpsWorkflow\"),  # Specify the workflow name\n",
    "    definition=workflow_graph,  # Use the workflow graph as the definition\n",
    "    role=workflow_execution_role,  # Specify the execution role\n",
    ")"
   ]
  },
  {
   "cell_type": "code",
   "execution_count": 33,
   "id": "4e70003f-ba1b-4f51-9f0d-d1baea8fdff5",
   "metadata": {
    "tags": []
   },
   "outputs": [
    {
     "data": {
      "text/plain": [
       "'arn:aws:states:us-east-1:889859566884:stateMachine:MultiLabelClassification-MlOpsWorkflow--20230922101453'"
      ]
     },
     "execution_count": 33,
     "metadata": {},
     "output_type": "execute_result"
    }
   ],
   "source": [
    "# Create the Step Functions workflow\n",
    "branching_workflow.create()"
   ]
  },
  {
   "cell_type": "markdown",
   "id": "c8c876ca-b66a-4d43-a43e-03435582cb10",
   "metadata": {},
   "source": [
    "# Execute WorkFlow & Deploy  <a class=\"anchor\" id=\"Execute-WorkFlow\"></a>"
   ]
  },
  {
   "cell_type": "code",
   "execution_count": 34,
   "id": "01f6b9bc-166e-442e-89c9-d43f98e40287",
   "metadata": {
    "tags": []
   },
   "outputs": [],
   "source": [
    "# Execute the Step Functions workflow with input parameters\n",
    "execution = branching_workflow.execute(\n",
    "    inputs={\n",
    "        \"PreprocessingJobName\": job_name(\"PreprocessingJobName\"),\n",
    "        \"TrainingJobName\": job_name(\"TrainingJobName\"),\n",
    "        # Additional input parameters can be provided here if needed\n",
    "    }\n",
    ")"
   ]
  },
  {
   "cell_type": "code",
   "execution_count": 35,
   "id": "c682a12c-02bf-4351-98b5-cd34e3911326",
   "metadata": {
    "tags": []
   },
   "outputs": [],
   "source": [
    "# Get the output of the workflow execution (non-blocking, does not wait for completion)\n",
    "execution.get_output(wait=False)"
   ]
  },
  {
   "cell_type": "markdown",
   "id": "d0ffc9a3-8589-4299-8065-3a2b08dedaae",
   "metadata": {},
   "source": [
    "# Prediction <a class=\"anchor\" id=\"prediction\"></a>"
   ]
  },
  {
   "cell_type": "code",
   "execution_count": null,
   "id": "577e17a4-0556-4c5d-8f51-7ca9e43f9b62",
   "metadata": {},
   "outputs": [],
   "source": [
    "from sagemaker.huggingface import HuggingFacePredictor\n",
    "\n",
    "# Create a predictor for your SageMaker endpoint\n",
    "predictor = HuggingFacePredictor(\n",
    "    endpoint_name=\"multi-label-classification--20230922090633\",\n",
    "    sagemaker_session=sagemaker_session,\n",
    ")\n",
    "\n",
    "# Define the input data as a list of strings\n",
    "inputs = [\"Streamlining Machine Learning Model Deployment with CI/CD and MLOps\"]\n",
    "\n",
    "# Create the payload as a JSON object\n",
    "payload = {\n",
    "    \"inputs\": inputs,\n",
    "    \"parameters\": {\"return_all_scores\": True},\n",
    "}\n",
    "\n",
    "# Make predictions\n",
    "predictions = predictor.predict(payload)\n",
    "\n",
    "# Print the predictions\n",
    "print(predictions)\n"
   ]
  }
 ],
 "metadata": {
  "availableInstances": [
   {
    "_defaultOrder": 0,
    "_isFastLaunch": true,
    "category": "General purpose",
    "gpuNum": 0,
    "hideHardwareSpecs": false,
    "memoryGiB": 4,
    "name": "ml.t3.medium",
    "vcpuNum": 2
   },
   {
    "_defaultOrder": 1,
    "_isFastLaunch": false,
    "category": "General purpose",
    "gpuNum": 0,
    "hideHardwareSpecs": false,
    "memoryGiB": 8,
    "name": "ml.t3.large",
    "vcpuNum": 2
   },
   {
    "_defaultOrder": 2,
    "_isFastLaunch": false,
    "category": "General purpose",
    "gpuNum": 0,
    "hideHardwareSpecs": false,
    "memoryGiB": 16,
    "name": "ml.t3.xlarge",
    "vcpuNum": 4
   },
   {
    "_defaultOrder": 3,
    "_isFastLaunch": false,
    "category": "General purpose",
    "gpuNum": 0,
    "hideHardwareSpecs": false,
    "memoryGiB": 32,
    "name": "ml.t3.2xlarge",
    "vcpuNum": 8
   },
   {
    "_defaultOrder": 4,
    "_isFastLaunch": true,
    "category": "General purpose",
    "gpuNum": 0,
    "hideHardwareSpecs": false,
    "memoryGiB": 8,
    "name": "ml.m5.large",
    "vcpuNum": 2
   },
   {
    "_defaultOrder": 5,
    "_isFastLaunch": false,
    "category": "General purpose",
    "gpuNum": 0,
    "hideHardwareSpecs": false,
    "memoryGiB": 16,
    "name": "ml.m5.xlarge",
    "vcpuNum": 4
   },
   {
    "_defaultOrder": 6,
    "_isFastLaunch": false,
    "category": "General purpose",
    "gpuNum": 0,
    "hideHardwareSpecs": false,
    "memoryGiB": 32,
    "name": "ml.m5.2xlarge",
    "vcpuNum": 8
   },
   {
    "_defaultOrder": 7,
    "_isFastLaunch": false,
    "category": "General purpose",
    "gpuNum": 0,
    "hideHardwareSpecs": false,
    "memoryGiB": 64,
    "name": "ml.m5.4xlarge",
    "vcpuNum": 16
   },
   {
    "_defaultOrder": 8,
    "_isFastLaunch": false,
    "category": "General purpose",
    "gpuNum": 0,
    "hideHardwareSpecs": false,
    "memoryGiB": 128,
    "name": "ml.m5.8xlarge",
    "vcpuNum": 32
   },
   {
    "_defaultOrder": 9,
    "_isFastLaunch": false,
    "category": "General purpose",
    "gpuNum": 0,
    "hideHardwareSpecs": false,
    "memoryGiB": 192,
    "name": "ml.m5.12xlarge",
    "vcpuNum": 48
   },
   {
    "_defaultOrder": 10,
    "_isFastLaunch": false,
    "category": "General purpose",
    "gpuNum": 0,
    "hideHardwareSpecs": false,
    "memoryGiB": 256,
    "name": "ml.m5.16xlarge",
    "vcpuNum": 64
   },
   {
    "_defaultOrder": 11,
    "_isFastLaunch": false,
    "category": "General purpose",
    "gpuNum": 0,
    "hideHardwareSpecs": false,
    "memoryGiB": 384,
    "name": "ml.m5.24xlarge",
    "vcpuNum": 96
   },
   {
    "_defaultOrder": 12,
    "_isFastLaunch": false,
    "category": "General purpose",
    "gpuNum": 0,
    "hideHardwareSpecs": false,
    "memoryGiB": 8,
    "name": "ml.m5d.large",
    "vcpuNum": 2
   },
   {
    "_defaultOrder": 13,
    "_isFastLaunch": false,
    "category": "General purpose",
    "gpuNum": 0,
    "hideHardwareSpecs": false,
    "memoryGiB": 16,
    "name": "ml.m5d.xlarge",
    "vcpuNum": 4
   },
   {
    "_defaultOrder": 14,
    "_isFastLaunch": false,
    "category": "General purpose",
    "gpuNum": 0,
    "hideHardwareSpecs": false,
    "memoryGiB": 32,
    "name": "ml.m5d.2xlarge",
    "vcpuNum": 8
   },
   {
    "_defaultOrder": 15,
    "_isFastLaunch": false,
    "category": "General purpose",
    "gpuNum": 0,
    "hideHardwareSpecs": false,
    "memoryGiB": 64,
    "name": "ml.m5d.4xlarge",
    "vcpuNum": 16
   },
   {
    "_defaultOrder": 16,
    "_isFastLaunch": false,
    "category": "General purpose",
    "gpuNum": 0,
    "hideHardwareSpecs": false,
    "memoryGiB": 128,
    "name": "ml.m5d.8xlarge",
    "vcpuNum": 32
   },
   {
    "_defaultOrder": 17,
    "_isFastLaunch": false,
    "category": "General purpose",
    "gpuNum": 0,
    "hideHardwareSpecs": false,
    "memoryGiB": 192,
    "name": "ml.m5d.12xlarge",
    "vcpuNum": 48
   },
   {
    "_defaultOrder": 18,
    "_isFastLaunch": false,
    "category": "General purpose",
    "gpuNum": 0,
    "hideHardwareSpecs": false,
    "memoryGiB": 256,
    "name": "ml.m5d.16xlarge",
    "vcpuNum": 64
   },
   {
    "_defaultOrder": 19,
    "_isFastLaunch": false,
    "category": "General purpose",
    "gpuNum": 0,
    "hideHardwareSpecs": false,
    "memoryGiB": 384,
    "name": "ml.m5d.24xlarge",
    "vcpuNum": 96
   },
   {
    "_defaultOrder": 20,
    "_isFastLaunch": false,
    "category": "General purpose",
    "gpuNum": 0,
    "hideHardwareSpecs": true,
    "memoryGiB": 0,
    "name": "ml.geospatial.interactive",
    "supportedImageNames": [
     "sagemaker-geospatial-v1-0"
    ],
    "vcpuNum": 0
   },
   {
    "_defaultOrder": 21,
    "_isFastLaunch": true,
    "category": "Compute optimized",
    "gpuNum": 0,
    "hideHardwareSpecs": false,
    "memoryGiB": 4,
    "name": "ml.c5.large",
    "vcpuNum": 2
   },
   {
    "_defaultOrder": 22,
    "_isFastLaunch": false,
    "category": "Compute optimized",
    "gpuNum": 0,
    "hideHardwareSpecs": false,
    "memoryGiB": 8,
    "name": "ml.c5.xlarge",
    "vcpuNum": 4
   },
   {
    "_defaultOrder": 23,
    "_isFastLaunch": false,
    "category": "Compute optimized",
    "gpuNum": 0,
    "hideHardwareSpecs": false,
    "memoryGiB": 16,
    "name": "ml.c5.2xlarge",
    "vcpuNum": 8
   },
   {
    "_defaultOrder": 24,
    "_isFastLaunch": false,
    "category": "Compute optimized",
    "gpuNum": 0,
    "hideHardwareSpecs": false,
    "memoryGiB": 32,
    "name": "ml.c5.4xlarge",
    "vcpuNum": 16
   },
   {
    "_defaultOrder": 25,
    "_isFastLaunch": false,
    "category": "Compute optimized",
    "gpuNum": 0,
    "hideHardwareSpecs": false,
    "memoryGiB": 72,
    "name": "ml.c5.9xlarge",
    "vcpuNum": 36
   },
   {
    "_defaultOrder": 26,
    "_isFastLaunch": false,
    "category": "Compute optimized",
    "gpuNum": 0,
    "hideHardwareSpecs": false,
    "memoryGiB": 96,
    "name": "ml.c5.12xlarge",
    "vcpuNum": 48
   },
   {
    "_defaultOrder": 27,
    "_isFastLaunch": false,
    "category": "Compute optimized",
    "gpuNum": 0,
    "hideHardwareSpecs": false,
    "memoryGiB": 144,
    "name": "ml.c5.18xlarge",
    "vcpuNum": 72
   },
   {
    "_defaultOrder": 28,
    "_isFastLaunch": false,
    "category": "Compute optimized",
    "gpuNum": 0,
    "hideHardwareSpecs": false,
    "memoryGiB": 192,
    "name": "ml.c5.24xlarge",
    "vcpuNum": 96
   },
   {
    "_defaultOrder": 29,
    "_isFastLaunch": true,
    "category": "Accelerated computing",
    "gpuNum": 1,
    "hideHardwareSpecs": false,
    "memoryGiB": 16,
    "name": "ml.g4dn.xlarge",
    "vcpuNum": 4
   },
   {
    "_defaultOrder": 30,
    "_isFastLaunch": false,
    "category": "Accelerated computing",
    "gpuNum": 1,
    "hideHardwareSpecs": false,
    "memoryGiB": 32,
    "name": "ml.g4dn.2xlarge",
    "vcpuNum": 8
   },
   {
    "_defaultOrder": 31,
    "_isFastLaunch": false,
    "category": "Accelerated computing",
    "gpuNum": 1,
    "hideHardwareSpecs": false,
    "memoryGiB": 64,
    "name": "ml.g4dn.4xlarge",
    "vcpuNum": 16
   },
   {
    "_defaultOrder": 32,
    "_isFastLaunch": false,
    "category": "Accelerated computing",
    "gpuNum": 1,
    "hideHardwareSpecs": false,
    "memoryGiB": 128,
    "name": "ml.g4dn.8xlarge",
    "vcpuNum": 32
   },
   {
    "_defaultOrder": 33,
    "_isFastLaunch": false,
    "category": "Accelerated computing",
    "gpuNum": 4,
    "hideHardwareSpecs": false,
    "memoryGiB": 192,
    "name": "ml.g4dn.12xlarge",
    "vcpuNum": 48
   },
   {
    "_defaultOrder": 34,
    "_isFastLaunch": false,
    "category": "Accelerated computing",
    "gpuNum": 1,
    "hideHardwareSpecs": false,
    "memoryGiB": 256,
    "name": "ml.g4dn.16xlarge",
    "vcpuNum": 64
   },
   {
    "_defaultOrder": 35,
    "_isFastLaunch": false,
    "category": "Accelerated computing",
    "gpuNum": 1,
    "hideHardwareSpecs": false,
    "memoryGiB": 61,
    "name": "ml.p3.2xlarge",
    "vcpuNum": 8
   },
   {
    "_defaultOrder": 36,
    "_isFastLaunch": false,
    "category": "Accelerated computing",
    "gpuNum": 4,
    "hideHardwareSpecs": false,
    "memoryGiB": 244,
    "name": "ml.p3.8xlarge",
    "vcpuNum": 32
   },
   {
    "_defaultOrder": 37,
    "_isFastLaunch": false,
    "category": "Accelerated computing",
    "gpuNum": 8,
    "hideHardwareSpecs": false,
    "memoryGiB": 488,
    "name": "ml.p3.16xlarge",
    "vcpuNum": 64
   },
   {
    "_defaultOrder": 38,
    "_isFastLaunch": false,
    "category": "Accelerated computing",
    "gpuNum": 8,
    "hideHardwareSpecs": false,
    "memoryGiB": 768,
    "name": "ml.p3dn.24xlarge",
    "vcpuNum": 96
   },
   {
    "_defaultOrder": 39,
    "_isFastLaunch": false,
    "category": "Memory Optimized",
    "gpuNum": 0,
    "hideHardwareSpecs": false,
    "memoryGiB": 16,
    "name": "ml.r5.large",
    "vcpuNum": 2
   },
   {
    "_defaultOrder": 40,
    "_isFastLaunch": false,
    "category": "Memory Optimized",
    "gpuNum": 0,
    "hideHardwareSpecs": false,
    "memoryGiB": 32,
    "name": "ml.r5.xlarge",
    "vcpuNum": 4
   },
   {
    "_defaultOrder": 41,
    "_isFastLaunch": false,
    "category": "Memory Optimized",
    "gpuNum": 0,
    "hideHardwareSpecs": false,
    "memoryGiB": 64,
    "name": "ml.r5.2xlarge",
    "vcpuNum": 8
   },
   {
    "_defaultOrder": 42,
    "_isFastLaunch": false,
    "category": "Memory Optimized",
    "gpuNum": 0,
    "hideHardwareSpecs": false,
    "memoryGiB": 128,
    "name": "ml.r5.4xlarge",
    "vcpuNum": 16
   },
   {
    "_defaultOrder": 43,
    "_isFastLaunch": false,
    "category": "Memory Optimized",
    "gpuNum": 0,
    "hideHardwareSpecs": false,
    "memoryGiB": 256,
    "name": "ml.r5.8xlarge",
    "vcpuNum": 32
   },
   {
    "_defaultOrder": 44,
    "_isFastLaunch": false,
    "category": "Memory Optimized",
    "gpuNum": 0,
    "hideHardwareSpecs": false,
    "memoryGiB": 384,
    "name": "ml.r5.12xlarge",
    "vcpuNum": 48
   },
   {
    "_defaultOrder": 45,
    "_isFastLaunch": false,
    "category": "Memory Optimized",
    "gpuNum": 0,
    "hideHardwareSpecs": false,
    "memoryGiB": 512,
    "name": "ml.r5.16xlarge",
    "vcpuNum": 64
   },
   {
    "_defaultOrder": 46,
    "_isFastLaunch": false,
    "category": "Memory Optimized",
    "gpuNum": 0,
    "hideHardwareSpecs": false,
    "memoryGiB": 768,
    "name": "ml.r5.24xlarge",
    "vcpuNum": 96
   },
   {
    "_defaultOrder": 47,
    "_isFastLaunch": false,
    "category": "Accelerated computing",
    "gpuNum": 1,
    "hideHardwareSpecs": false,
    "memoryGiB": 16,
    "name": "ml.g5.xlarge",
    "vcpuNum": 4
   },
   {
    "_defaultOrder": 48,
    "_isFastLaunch": false,
    "category": "Accelerated computing",
    "gpuNum": 1,
    "hideHardwareSpecs": false,
    "memoryGiB": 32,
    "name": "ml.g5.2xlarge",
    "vcpuNum": 8
   },
   {
    "_defaultOrder": 49,
    "_isFastLaunch": false,
    "category": "Accelerated computing",
    "gpuNum": 1,
    "hideHardwareSpecs": false,
    "memoryGiB": 64,
    "name": "ml.g5.4xlarge",
    "vcpuNum": 16
   },
   {
    "_defaultOrder": 50,
    "_isFastLaunch": false,
    "category": "Accelerated computing",
    "gpuNum": 1,
    "hideHardwareSpecs": false,
    "memoryGiB": 128,
    "name": "ml.g5.8xlarge",
    "vcpuNum": 32
   },
   {
    "_defaultOrder": 51,
    "_isFastLaunch": false,
    "category": "Accelerated computing",
    "gpuNum": 1,
    "hideHardwareSpecs": false,
    "memoryGiB": 256,
    "name": "ml.g5.16xlarge",
    "vcpuNum": 64
   },
   {
    "_defaultOrder": 52,
    "_isFastLaunch": false,
    "category": "Accelerated computing",
    "gpuNum": 4,
    "hideHardwareSpecs": false,
    "memoryGiB": 192,
    "name": "ml.g5.12xlarge",
    "vcpuNum": 48
   },
   {
    "_defaultOrder": 53,
    "_isFastLaunch": false,
    "category": "Accelerated computing",
    "gpuNum": 4,
    "hideHardwareSpecs": false,
    "memoryGiB": 384,
    "name": "ml.g5.24xlarge",
    "vcpuNum": 96
   },
   {
    "_defaultOrder": 54,
    "_isFastLaunch": false,
    "category": "Accelerated computing",
    "gpuNum": 8,
    "hideHardwareSpecs": false,
    "memoryGiB": 768,
    "name": "ml.g5.48xlarge",
    "vcpuNum": 192
   },
   {
    "_defaultOrder": 55,
    "_isFastLaunch": false,
    "category": "Accelerated computing",
    "gpuNum": 8,
    "hideHardwareSpecs": false,
    "memoryGiB": 1152,
    "name": "ml.p4d.24xlarge",
    "vcpuNum": 96
   },
   {
    "_defaultOrder": 56,
    "_isFastLaunch": false,
    "category": "Accelerated computing",
    "gpuNum": 8,
    "hideHardwareSpecs": false,
    "memoryGiB": 1152,
    "name": "ml.p4de.24xlarge",
    "vcpuNum": 96
   }
  ],
  "instance_type": "ml.t3.medium",
  "kernelspec": {
   "display_name": "aws_mlops",
   "language": "python",
   "name": "aws_mlops"
  },
  "language_info": {
   "codemirror_mode": {
    "name": "ipython",
    "version": 3
   },
   "file_extension": ".py",
   "mimetype": "text/x-python",
   "name": "python",
   "nbconvert_exporter": "python",
   "pygments_lexer": "ipython3",
   "version": "3.10.10"
  }
 },
 "nbformat": 4,
 "nbformat_minor": 5
}
